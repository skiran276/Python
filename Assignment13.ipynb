{
 "cells": [
  {
   "cell_type": "markdown",
   "id": "4b6454ff",
   "metadata": {},
   "source": [
    "1) What advantages do Excel spreadsheets have over CSV spreadsheets?"
   ]
  },
  {
   "cell_type": "markdown",
   "id": "c48d5af3",
   "metadata": {},
   "source": [
    "In Excel, spreadsheets can have values of data types other than strings;\n",
    "cells can have different fonts, sizes, or color settings; cells can have\n",
    "varying widths and heights; adjacent cells can be merged; and you\n",
    "can embed images and charts."
   ]
  },
  {
   "cell_type": "markdown",
   "id": "c5feb9aa",
   "metadata": {},
   "source": [
    "2).What do you pass to csv.reader() and csv.writer() to create reader and writer objects?"
   ]
  },
  {
   "cell_type": "markdown",
   "id": "dae6898e",
   "metadata": {},
   "source": [
    "You pass a File object, obtained from a call to open()."
   ]
  },
  {
   "cell_type": "markdown",
   "id": "fb3049e0",
   "metadata": {},
   "source": [
    "3) What modes do File objects for reader and writer objects need to be opened in?"
   ]
  },
  {
   "cell_type": "markdown",
   "id": "b9b92f85",
   "metadata": {},
   "source": [
    "File objects need to be opened in read-binary ('rb') for reader objects\n",
    "and write-binary ('wb') for writer objects."
   ]
  },
  {
   "cell_type": "markdown",
   "id": "79f851ba",
   "metadata": {},
   "source": [
    "4) What method takes a list argument and writes it to a CSV file?"
   ]
  },
  {
   "cell_type": "markdown",
   "id": "0e100a72",
   "metadata": {},
   "source": [
    "The writerow() method"
   ]
  },
  {
   "cell_type": "markdown",
   "id": "e5c20ecf",
   "metadata": {},
   "source": [
    "5) What do the keyword arguments delimiter and line terminator do?"
   ]
  },
  {
   "cell_type": "markdown",
   "id": "e0bda654",
   "metadata": {},
   "source": [
    "The delimiter argument changes the string used to separate cells\n",
    "in a row. The lineterminator argument changes the string used to\n",
    "separate rows."
   ]
  },
  {
   "cell_type": "markdown",
   "id": "55962d9f",
   "metadata": {},
   "source": [
    "6) What function takes a string of JSON data and returns a Python data structure?"
   ]
  },
  {
   "cell_type": "markdown",
   "id": "a3871915",
   "metadata": {},
   "source": [
    "json.loads()"
   ]
  },
  {
   "cell_type": "markdown",
   "id": "38e0c5fa",
   "metadata": {},
   "source": [
    "7) What function takes a Python data structure and returns a string of JSON data?"
   ]
  },
  {
   "cell_type": "markdown",
   "id": "4d5d5a19",
   "metadata": {},
   "source": [
    "json.dumps()"
   ]
  }
 ],
 "metadata": {
  "kernelspec": {
   "display_name": "Python 3 (ipykernel)",
   "language": "python",
   "name": "python3"
  },
  "language_info": {
   "codemirror_mode": {
    "name": "ipython",
    "version": 3
   },
   "file_extension": ".py",
   "mimetype": "text/x-python",
   "name": "python",
   "nbconvert_exporter": "python",
   "pygments_lexer": "ipython3",
   "version": "3.9.7"
  }
 },
 "nbformat": 4,
 "nbformat_minor": 5
}
