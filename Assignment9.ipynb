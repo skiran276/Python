{
 "cells": [
  {
   "cell_type": "markdown",
   "id": "8987a3cb",
   "metadata": {},
   "source": [
    "1). To what does a relative path refer?"
   ]
  },
  {
   "cell_type": "markdown",
   "id": "164d9a82",
   "metadata": {},
   "source": [
    "Relative paths are relative to the current working directory"
   ]
  },
  {
   "cell_type": "markdown",
   "id": "dce8e5ec",
   "metadata": {},
   "source": [
    "2). What does an absolute path start with your operating system?"
   ]
  },
  {
   "cell_type": "markdown",
   "id": "a77d52dc",
   "metadata": {},
   "source": [
    "Absolute paths start with the root folder, such as / or C:\\ ."
   ]
  },
  {
   "cell_type": "markdown",
   "id": "ccc09ec1",
   "metadata": {},
   "source": [
    "3). What do the functions os.getcwd() and os.chdir() do?"
   ]
  },
  {
   "cell_type": "markdown",
   "id": "4b6e36d6",
   "metadata": {},
   "source": [
    "The os.getcwd() function returns the current working directory. The\n",
    "os.chdir() function changes the current working directory"
   ]
  },
  {
   "cell_type": "markdown",
   "id": "b202d355",
   "metadata": {},
   "source": [
    "4). What are the . and .. folders?"
   ]
  },
  {
   "cell_type": "markdown",
   "id": "b89df310",
   "metadata": {},
   "source": [
    "The . folder is the current folder, and .. is the parent folder."
   ]
  },
  {
   "cell_type": "markdown",
   "id": "c28a6d22",
   "metadata": {},
   "source": [
    "5). In C:\\bacon\\eggs\\spam.txt, which part is the dir name, and which part is the base name?"
   ]
  },
  {
   "cell_type": "markdown",
   "id": "fb2d6c64",
   "metadata": {},
   "source": [
    "C:\\bacon\\eggs is the dir name, while spam.txt is the base name."
   ]
  },
  {
   "cell_type": "markdown",
   "id": "91ebf231",
   "metadata": {},
   "source": [
    "6). What are the three “mode” arguments that can be passed to the open() function?"
   ]
  },
  {
   "cell_type": "markdown",
   "id": "83da3149",
   "metadata": {},
   "source": [
    "The string 'r' for read mode, 'w' for write mode, and 'a' for append mode"
   ]
  },
  {
   "cell_type": "markdown",
   "id": "6e1a3d1b",
   "metadata": {},
   "source": [
    "7). What happens if an existing file is opened in write mode?"
   ]
  },
  {
   "cell_type": "markdown",
   "id": "37c98f75",
   "metadata": {},
   "source": [
    "An existing file opened in write mode is erased and completely\n",
    "overwritten."
   ]
  },
  {
   "cell_type": "markdown",
   "id": "81352423",
   "metadata": {},
   "source": [
    "8). How do you tell the difference between read() and readlines()?"
   ]
  },
  {
   "cell_type": "markdown",
   "id": "e41ca579",
   "metadata": {},
   "source": [
    "The read() method returns the file’s entire contents as a single string\n",
    "value. The readlines() method returns a list of strings, where each\n",
    "string is a line from the file’s contents."
   ]
  },
  {
   "cell_type": "markdown",
   "id": "e74656f7",
   "metadata": {},
   "source": [
    "9). What data structure does a shelf value resemble?"
   ]
  },
  {
   "cell_type": "markdown",
   "id": "44e34da7",
   "metadata": {},
   "source": [
    "A shelf value resembles a dictionary value; it has keys and values, along\n",
    "with keys() and values() methods that work similarly to the dictionary\n",
    "methods of the same names"
   ]
  }
 ],
 "metadata": {
  "kernelspec": {
   "display_name": "Python 3 (ipykernel)",
   "language": "python",
   "name": "python3"
  },
  "language_info": {
   "codemirror_mode": {
    "name": "ipython",
    "version": 3
   },
   "file_extension": ".py",
   "mimetype": "text/x-python",
   "name": "python",
   "nbconvert_exporter": "python",
   "pygments_lexer": "ipython3",
   "version": "3.9.7"
  }
 },
 "nbformat": 4,
 "nbformat_minor": 5
}
