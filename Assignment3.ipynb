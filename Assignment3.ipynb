{
 "cells": [
  {
   "cell_type": "markdown",
   "id": "a1119982",
   "metadata": {},
   "source": [
    "1. Why are functions advantageous to have in your programs?"
   ]
  },
  {
   "cell_type": "markdown",
   "id": "0fd12a54",
   "metadata": {},
   "source": [
    "a function is reusable. It saves your day by having a single solution for a repeating problem so you don’t have to do the same work over and over again.Functions enable reuse of code, improve maintainability and scalability."
   ]
  },
  {
   "cell_type": "markdown",
   "id": "074027dd",
   "metadata": {},
   "source": [
    "2. When does the code in a function run: when it's specified or when it's called?"
   ]
  },
  {
   "cell_type": "markdown",
   "id": "cefd8a3f",
   "metadata": {},
   "source": [
    "function run when it is specified\n"
   ]
  },
  {
   "cell_type": "markdown",
   "id": "57d783cb",
   "metadata": {},
   "source": [
    "3. What statement creates a function?"
   ]
  },
  {
   "cell_type": "markdown",
   "id": "ef854d99",
   "metadata": {},
   "source": [
    "The “def” keyword is a statement for defining a function in Python. You start a function with the def keyword, specify a name followed by a colon (:) sign. The “def” call creates the function object and assigns it to the name given. You can further re-assign the same function object to other names."
   ]
  },
  {
   "cell_type": "markdown",
   "id": "841b791a",
   "metadata": {},
   "source": [
    "4. What is the difference between a function and a function call?"
   ]
  },
  {
   "cell_type": "raw",
   "id": "9939df5a",
   "metadata": {},
   "source": [
    "A function is a block of code that does a particular operation and returns a result. It usually accepts inputs as parameters and returns a result. \n",
    "\n",
    "A function call is the code used to pass control to a function."
   ]
  },
  {
   "cell_type": "markdown",
   "id": "e714beb3",
   "metadata": {},
   "source": [
    "5. How many global scopes are there in a Python program? How many local scopes?"
   ]
  },
  {
   "cell_type": "markdown",
   "id": "5ed58de3",
   "metadata": {},
   "source": [
    "one global Python scope per program execution. This scope remains in existence until the program terminates and all its names are forgotten.Any variable which is changed or created inside of a function is local"
   ]
  },
  {
   "cell_type": "markdown",
   "id": "5542c085",
   "metadata": {},
   "source": [
    "6. What happens to variables in a local scope when the function call returns?"
   ]
  },
  {
   "cell_type": "markdown",
   "id": "84d0490e",
   "metadata": {},
   "source": [
    "the definition of local variables remains the same, which is “A variable declared inside the function is called local function”. We can access a local variable inside but not outside the function."
   ]
  },
  {
   "cell_type": "markdown",
   "id": "ec52f280",
   "metadata": {},
   "source": [
    "7. What is the concept of a return value? Is it possible to have a return value in an expression?"
   ]
  },
  {
   "cell_type": "raw",
   "id": "d42bd8c4",
   "metadata": {},
   "source": [
    "A return is a value that a function returns to the calling script or function when it completes its task. A return value can be any one of the four variable types: handle, integer, object, or string.yes it is possible to have return value in expression"
   ]
  },
  {
   "cell_type": "markdown",
   "id": "40a58147",
   "metadata": {},
   "source": [
    "8. If a function does not have a return statement, what is the return value of a call to that function?"
   ]
  },
  {
   "cell_type": "markdown",
   "id": "87bdf47d",
   "metadata": {},
   "source": [
    "The return statement terminates the function call and returns a value to the caller. The return statement without an expression argument returns None , and a function without a return statement also returns None ."
   ]
  },
  {
   "cell_type": "markdown",
   "id": "bac8227c",
   "metadata": {},
   "source": [
    "9. How do you make a function variable refer to the global variable?"
   ]
  },
  {
   "cell_type": "markdown",
   "id": "1feac02f",
   "metadata": {},
   "source": [
    "To access a global variable inside a function there is no need to use global keyword."
   ]
  },
  {
   "cell_type": "code",
   "execution_count": 2,
   "id": "39303f51",
   "metadata": {},
   "outputs": [
    {
     "name": "stdout",
     "output_type": "stream",
     "text": [
      "20\n"
     ]
    }
   ],
   "source": [
    "a = 15\n",
    "  \n",
    "\n",
    "def change():\n",
    "  \n",
    "    global a\n",
    "    a = a + 5 \n",
    "    print(a)\n",
    "  \n",
    "change()"
   ]
  },
  {
   "cell_type": "markdown",
   "id": "232afcf1",
   "metadata": {},
   "source": [
    "10. What is the data type of None?"
   ]
  },
  {
   "cell_type": "markdown",
   "id": "f55c6cfe",
   "metadata": {},
   "source": [
    "None is used to define a null value. It is not the same as an empty string, False, or a zero. It is a data type of the class NoneType object. Assigning a value of None to a variable is one way to reset it to its original, empty state."
   ]
  },
  {
   "cell_type": "markdown",
   "id": "16bfb679",
   "metadata": {},
   "source": [
    "11. What does the sentence import areallyourpetsnamederic do?"
   ]
  },
  {
   "cell_type": "markdown",
   "id": "7c107448",
   "metadata": {},
   "source": [
    "That import statement imports a module named areallyourpetsnamederic."
   ]
  },
  {
   "cell_type": "markdown",
   "id": "1eb3fb14",
   "metadata": {},
   "source": [
    "12. If you had a bacon() feature in a spam module, what would you call it after importing spam?"
   ]
  },
  {
   "cell_type": "raw",
   "id": "9921efb0",
   "metadata": {},
   "source": [
    "spam.bacon()"
   ]
  },
  {
   "cell_type": "markdown",
   "id": "61451e2f",
   "metadata": {},
   "source": [
    "13. What can you do to save a programme from crashing if it encounters an error?"
   ]
  },
  {
   "cell_type": "markdown",
   "id": "51ecf7c5",
   "metadata": {},
   "source": [
    "use try and Except statement.When it encounters an error, the control is passed to the except block, skipping the code in between.and it will throw an error message instead of crashing the program."
   ]
  },
  {
   "cell_type": "markdown",
   "id": "d73934b3",
   "metadata": {},
   "source": [
    "14. What is the purpose of the try clause? What is the purpose of the except clause?"
   ]
  },
  {
   "cell_type": "markdown",
   "id": "c1e46585",
   "metadata": {},
   "source": [
    "The try statement allows you to define a block of code to be tested for errors while it is being executed. except statement catches an exception. It is used to test code for an error which is written in the “try” statement.as given in below example"
   ]
  },
  {
   "cell_type": "code",
   "execution_count": 3,
   "id": "99c8f6bf",
   "metadata": {},
   "outputs": [],
   "source": [
    "def divide(x, y):\n",
    "    try:\n",
    "      \n",
    "        result = x // y\n",
    "        print(\"Yeah ! Your answer is :\", result)\n",
    "    except ZeroDivisionError:\n",
    "        print(\"Sorry ! You are dividing by zero \")\n"
   ]
  },
  {
   "cell_type": "code",
   "execution_count": 4,
   "id": "e240e46b",
   "metadata": {},
   "outputs": [
    {
     "name": "stdout",
     "output_type": "stream",
     "text": [
      "Sorry ! You are dividing by zero \n"
     ]
    }
   ],
   "source": [
    "divide(9,0)"
   ]
  },
  {
   "cell_type": "code",
   "execution_count": null,
   "id": "43e87a8d",
   "metadata": {},
   "outputs": [],
   "source": []
  },
  {
   "cell_type": "code",
   "execution_count": null,
   "id": "96d07695",
   "metadata": {},
   "outputs": [],
   "source": []
  }
 ],
 "metadata": {
  "kernelspec": {
   "display_name": "Python 3 (ipykernel)",
   "language": "python",
   "name": "python3"
  },
  "language_info": {
   "codemirror_mode": {
    "name": "ipython",
    "version": 3
   },
   "file_extension": ".py",
   "mimetype": "text/x-python",
   "name": "python",
   "nbconvert_exporter": "python",
   "pygments_lexer": "ipython3",
   "version": "3.9.7"
  }
 },
 "nbformat": 4,
 "nbformat_minor": 5
}
