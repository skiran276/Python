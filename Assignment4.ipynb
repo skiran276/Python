{
 "cells": [
  {
   "cell_type": "markdown",
   "id": "104f5e83",
   "metadata": {},
   "source": [
    "1. What exactly is []?"
   ]
  },
  {
   "cell_type": "markdown",
   "id": "523229e1",
   "metadata": {},
   "source": [
    "[] is a list: A mutable collection of values,but not necessarily of the same type,it can contain string,int,float"
   ]
  },
  {
   "cell_type": "markdown",
   "id": "32f35710",
   "metadata": {},
   "source": [
    "2. In a list of values stored in a variable called spam, how would you assign the value 'hello' as the third value? (Assume [2, 4, 6, 8, 10] are in spam.)"
   ]
  },
  {
   "cell_type": "code",
   "execution_count": 1,
   "id": "caa60e49",
   "metadata": {},
   "outputs": [],
   "source": [
    "spam=[2,4,6,8,10]"
   ]
  },
  {
   "cell_type": "code",
   "execution_count": 2,
   "id": "e9314a2e",
   "metadata": {},
   "outputs": [],
   "source": [
    "spam[2]=\"hello\""
   ]
  },
  {
   "cell_type": "code",
   "execution_count": 3,
   "id": "ae9c16ab",
   "metadata": {},
   "outputs": [
    {
     "data": {
      "text/plain": [
       "[2, 4, 'hello', 8, 10]"
      ]
     },
     "execution_count": 3,
     "metadata": {},
     "output_type": "execute_result"
    }
   ],
   "source": [
    "spam"
   ]
  },
  {
   "cell_type": "markdown",
   "id": "a1504518",
   "metadata": {},
   "source": [
    "Let's pretend the spam includes the list ['a', 'b', 'c', 'd'] for the next three queries."
   ]
  },
  {
   "cell_type": "code",
   "execution_count": 4,
   "id": "9ca88170",
   "metadata": {},
   "outputs": [],
   "source": [
    "spam=['a','b','c','d']"
   ]
  },
  {
   "cell_type": "markdown",
   "id": "7b15dc8f",
   "metadata": {},
   "source": [
    "3. What is the value of spam[int(int('3' * 2) / 11)]?"
   ]
  },
  {
   "cell_type": "code",
   "execution_count": 5,
   "id": "3ce0edc0",
   "metadata": {},
   "outputs": [
    {
     "data": {
      "text/plain": [
       "'d'"
      ]
     },
     "execution_count": 5,
     "metadata": {},
     "output_type": "execute_result"
    }
   ],
   "source": [
    "spam[int(int('3'*2)/11)]"
   ]
  },
  {
   "cell_type": "markdown",
   "id": "112694da",
   "metadata": {},
   "source": [
    "4. What is the value of spam[-1]?"
   ]
  },
  {
   "cell_type": "code",
   "execution_count": 6,
   "id": "fedd7f75",
   "metadata": {},
   "outputs": [
    {
     "data": {
      "text/plain": [
       "'d'"
      ]
     },
     "execution_count": 6,
     "metadata": {},
     "output_type": "execute_result"
    }
   ],
   "source": [
    "spam[-1]"
   ]
  },
  {
   "cell_type": "markdown",
   "id": "96e2c4b0",
   "metadata": {},
   "source": [
    "5. What is the value of spam[:2]?"
   ]
  },
  {
   "cell_type": "code",
   "execution_count": 7,
   "id": "276c1da9",
   "metadata": {},
   "outputs": [
    {
     "data": {
      "text/plain": [
       "'c'"
      ]
     },
     "execution_count": 7,
     "metadata": {},
     "output_type": "execute_result"
    }
   ],
   "source": [
    "spam[-2]"
   ]
  },
  {
   "cell_type": "markdown",
   "id": "26358c1d",
   "metadata": {},
   "source": [
    "Let's pretend bacon has the list [3.14, 'cat,' 11, 'cat,' True] for the next three questions."
   ]
  },
  {
   "cell_type": "markdown",
   "id": "414779fb",
   "metadata": {},
   "source": [
    "6. What is the value of bacon.index('cat')?"
   ]
  },
  {
   "cell_type": "code",
   "execution_count": 8,
   "id": "7c97773b",
   "metadata": {},
   "outputs": [],
   "source": [
    "bacon=[3.14, 'cat', 11, 'cat', True]"
   ]
  },
  {
   "cell_type": "code",
   "execution_count": 9,
   "id": "8dc4dee3",
   "metadata": {},
   "outputs": [
    {
     "data": {
      "text/plain": [
       "1"
      ]
     },
     "execution_count": 9,
     "metadata": {},
     "output_type": "execute_result"
    }
   ],
   "source": [
    "bacon.index('cat')"
   ]
  },
  {
   "cell_type": "markdown",
   "id": "1710ce10",
   "metadata": {},
   "source": [
    "7. How does bacon.append(99) change the look of the list value in bacon?"
   ]
  },
  {
   "cell_type": "code",
   "execution_count": 18,
   "id": "af36b6b6",
   "metadata": {},
   "outputs": [],
   "source": [
    "bacon.append(99)"
   ]
  },
  {
   "cell_type": "code",
   "execution_count": 19,
   "id": "8d0f7bd8",
   "metadata": {},
   "outputs": [
    {
     "data": {
      "text/plain": [
       "[3.14, 'cat', 11, 'cat', True, 99, 99, 99, 99, 99]"
      ]
     },
     "execution_count": 19,
     "metadata": {},
     "output_type": "execute_result"
    }
   ],
   "source": [
    "bacon"
   ]
  },
  {
   "cell_type": "markdown",
   "id": "0b988e3f",
   "metadata": {},
   "source": [
    "8. How does bacon.remove('cat') change the look of the list in bacon?"
   ]
  },
  {
   "cell_type": "code",
   "execution_count": 20,
   "id": "e83b270e",
   "metadata": {},
   "outputs": [],
   "source": [
    "bacon.remove('cat')"
   ]
  },
  {
   "cell_type": "code",
   "execution_count": 21,
   "id": "97c8da66",
   "metadata": {},
   "outputs": [
    {
     "data": {
      "text/plain": [
       "[3.14, 11, 'cat', True, 99, 99, 99, 99, 99]"
      ]
     },
     "execution_count": 21,
     "metadata": {},
     "output_type": "execute_result"
    }
   ],
   "source": [
    "bacon"
   ]
  },
  {
   "cell_type": "markdown",
   "id": "e4320a1d",
   "metadata": {},
   "source": [
    "9. What are the list concatenation and list replication operators?"
   ]
  },
  {
   "cell_type": "markdown",
   "id": "0bb3244e",
   "metadata": {},
   "source": [
    "The operator for list concatenation is +, while the operator for replication is *"
   ]
  },
  {
   "cell_type": "markdown",
   "id": "a4f97e34",
   "metadata": {},
   "source": [
    "10. What is difference between the list methods append() and insert()?"
   ]
  },
  {
   "cell_type": "markdown",
   "id": "c5425304",
   "metadata": {},
   "source": [
    "The only difference between append() and insert() is that insert function allows us to add a specific element at a specified index of the list unlike append() where we can add the element only at end of the list."
   ]
  },
  {
   "cell_type": "markdown",
   "id": "2dddcab0",
   "metadata": {},
   "source": [
    "11. What are the two methods for removing items from a list?"
   ]
  },
  {
   "cell_type": "raw",
   "id": "be0a963f",
   "metadata": {},
   "source": [
    "remove(), pop() and clear().\n",
    "remove():It helps to remove the very first given element matching from the list.\n",
    "pop():The pop() method removes an element from the list based on the index given.\n",
    "clear():The clear() method will remove all the elements present in the list."
   ]
  },
  {
   "cell_type": "markdown",
   "id": "d8afe66a",
   "metadata": {},
   "source": [
    "12. Describe how list values and string values are identical."
   ]
  },
  {
   "cell_type": "markdown",
   "id": "80b2ccbb",
   "metadata": {},
   "source": [
    " Lists are similar to strings, when are ordered collections of characters"
   ]
  },
  {
   "cell_type": "code",
   "execution_count": 22,
   "id": "419892b9",
   "metadata": {},
   "outputs": [],
   "source": [
    "l=[\"happy\",\"learning\"]"
   ]
  },
  {
   "cell_type": "markdown",
   "id": "1ce190d8",
   "metadata": {},
   "source": [
    "13. What's the difference between tuples and lists?"
   ]
  },
  {
   "cell_type": "raw",
   "id": "6a04e968",
   "metadata": {},
   "source": [
    "tuple()\n",
    "the tuples are immutable, This means that tuples cannot be changed\n",
    "list[]\n",
    "the lists are mutable,it can be modified"
   ]
  },
  {
   "cell_type": "markdown",
   "id": "d1764d52",
   "metadata": {},
   "source": [
    "14. How do you type a tuple value that only contains the integer 42?"
   ]
  },
  {
   "cell_type": "markdown",
   "id": "e36b10d5",
   "metadata": {},
   "source": [
    "tuple object is not callable"
   ]
  },
  {
   "cell_type": "markdown",
   "id": "d7873026",
   "metadata": {},
   "source": [
    "15. How do you get a list value's tuple form? How do you get a tuple value's list form?"
   ]
  },
  {
   "cell_type": "markdown",
   "id": "5fbd31cc",
   "metadata": {},
   "source": [
    "list value in tuple form"
   ]
  },
  {
   "cell_type": "code",
   "execution_count": 2,
   "id": "58aaedc7",
   "metadata": {},
   "outputs": [
    {
     "name": "stdout",
     "output_type": "stream",
     "text": [
      "After converting to integer base 2 : (10010,)\n"
     ]
    }
   ],
   "source": [
    "s = [10010]\n",
    " \n",
    "\n",
    "c = tuple(s)\n",
    "print (\"After converting to integer base 2 : \", end=\"\")\n",
    "print (c)"
   ]
  },
  {
   "cell_type": "markdown",
   "id": "2ccbe535",
   "metadata": {},
   "source": [
    "tuple value in list form"
   ]
  },
  {
   "cell_type": "code",
   "execution_count": 1,
   "id": "7dda9e91",
   "metadata": {},
   "outputs": [
    {
     "name": "stdout",
     "output_type": "stream",
     "text": [
      "After converting to integer base 2 : ['1', '0', '0', '1', '0']\n"
     ]
    }
   ],
   "source": [
    "s = (\"10010\")\n",
    " \n",
    "\n",
    "c = list(s)\n",
    "print (\"After converting to integer base 2 : \", end=\"\")\n",
    "print (c)\n",
    " "
   ]
  },
  {
   "cell_type": "markdown",
   "id": "b371389a",
   "metadata": {},
   "source": [
    "16. Variables that \"contain\" list values are not necessarily lists themselves. Instead, what do they contain?"
   ]
  },
  {
   "cell_type": "markdown",
   "id": "62f2ca9c",
   "metadata": {},
   "source": [
    "integers.\n",
    "floats.\n",
    "lists.\n",
    "tuples."
   ]
  },
  {
   "cell_type": "markdown",
   "id": "a364027a",
   "metadata": {},
   "source": [
    "17. How do you distinguish between copy.copy() and copy.deepcopy()?"
   ]
  },
  {
   "cell_type": "raw",
   "id": "370beb58",
   "metadata": {},
   "source": [
    "copy constructs a new compound object and then (to the extent possible) inserts references into it to the objects found in the original\n",
    "copy.deepcopy()\n",
    "A deep copy constructs a new compound object and then, recursively, inserts copies into it of the objects found in the original"
   ]
  }
 ],
 "metadata": {
  "kernelspec": {
   "display_name": "Python 3 (ipykernel)",
   "language": "python",
   "name": "python3"
  },
  "language_info": {
   "codemirror_mode": {
    "name": "ipython",
    "version": 3
   },
   "file_extension": ".py",
   "mimetype": "text/x-python",
   "name": "python",
   "nbconvert_exporter": "python",
   "pygments_lexer": "ipython3",
   "version": "3.9.7"
  }
 },
 "nbformat": 4,
 "nbformat_minor": 5
}
