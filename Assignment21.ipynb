{
 "cells": [
  {
   "cell_type": "markdown",
   "id": "17a18187",
   "metadata": {},
   "source": [
    "1) Add the current date to the text file today.txt as a string."
   ]
  },
  {
   "cell_type": "code",
   "execution_count": 1,
   "id": "652a772a",
   "metadata": {},
   "outputs": [
    {
     "name": "stdout",
     "output_type": "stream",
     "text": [
      "30-03-2022\n"
     ]
    }
   ],
   "source": [
    "import datetime\n",
    "# Code to Add current date to the today.txt file\n",
    "file = open('today.txt','w')\n",
    "file.write(datetime.datetime.now().strftime(\"%d-%m-%Y\"))\n",
    "file.close()\n",
    "# Code to Read current date from today.txt file\n",
    "file = open('today.txt','r')\n",
    "print(file.read())\n",
    "file.close()"
   ]
  },
  {
   "cell_type": "markdown",
   "id": "beba050d",
   "metadata": {},
   "source": [
    "2) Read the text file today.txt into the string today_string"
   ]
  },
  {
   "cell_type": "code",
   "execution_count": 2,
   "id": "7c8126a9",
   "metadata": {},
   "outputs": [
    {
     "name": "stdout",
     "output_type": "stream",
     "text": [
      "30-03-2022\n"
     ]
    }
   ],
   "source": [
    "file = open('today.txt','r')\n",
    "today_string = file.read()\n",
    "print(today_string)"
   ]
  },
  {
   "cell_type": "markdown",
   "id": "c417c8bf",
   "metadata": {},
   "source": [
    "3) Parse the date from today_string."
   ]
  },
  {
   "cell_type": "code",
   "execution_count": 3,
   "id": "f6e570a5",
   "metadata": {},
   "outputs": [
    {
     "name": "stdout",
     "output_type": "stream",
     "text": [
      "2022-03-30 00:00:00\n"
     ]
    }
   ],
   "source": [
    "from datetime import datetime\n",
    "parsed_data = datetime.strptime(today_string, '%d-%m-%Y')\n",
    "print(parsed_data)"
   ]
  },
  {
   "cell_type": "markdown",
   "id": "74536703",
   "metadata": {},
   "source": [
    "4) List the files in your current directory"
   ]
  },
  {
   "cell_type": "code",
   "execution_count": null,
   "id": "d26aa4f7",
   "metadata": {},
   "outputs": [],
   "source": [
    "import os\n",
    "for folders, subfolders, files in os.walk(os.getcwd()):\n",
    "    for file in files:\n",
    "        print(file)"
   ]
  },
  {
   "cell_type": "markdown",
   "id": "1d36cb8a",
   "metadata": {},
   "source": [
    "5) Create a list of all of the files in your parent directory (minimum five files should be available)."
   ]
  },
  {
   "cell_type": "code",
   "execution_count": 1,
   "id": "fa691fa2",
   "metadata": {},
   "outputs": [
    {
     "data": {
      "text/plain": [
       "['-1.14-windows.xml',\n",
       " '.conda',\n",
       " '.condarc',\n",
       " '.continuum',\n",
       " '.cufflinks',\n",
       " '.ipynb_checkpoints',\n",
       " '.ipython',\n",
       " '.jupyter',\n",
       " '.matplotlib',\n",
       " '19.3 MongoDB',\n",
       " '3D Objects',\n",
       " '500 ebook.pdf',\n",
       " 'anaconda3',\n",
       " 'AppData',\n",
       " 'Application Data',\n",
       " 'Assignment 1.ipynb',\n",
       " 'Assignment 2.ipynb',\n",
       " 'Assignment10.ipynb',\n",
       " 'Assignment11.ipynb',\n",
       " 'Assignment12.ipynb',\n",
       " 'Assignment13.ipynb',\n",
       " 'Assignment15.ipynb',\n",
       " 'Assignment16.ipynb',\n",
       " 'Assignment17.ipynb',\n",
       " 'Assignment18.ipynb',\n",
       " 'Assignment19.ipynb',\n",
       " 'Assignment20.ipynb',\n",
       " 'Assignment21.ipynb',\n",
       " 'Assignment3.ipynb',\n",
       " 'Assignment4.ipynb',\n",
       " 'Assignment5.ipynb',\n",
       " 'Assignment6.ipynb',\n",
       " 'Assignment7.ipynb',\n",
       " 'Assignment8.ipynb',\n",
       " 'Assignment9.ipynb',\n",
       " 'Asssignment14.ipynb',\n",
       " 'bank.zip',\n",
       " 'Book1.csv',\n",
       " 'books.csv',\n",
       " 'books.db',\n",
       " 'BullseyeCoverageError.txt',\n",
       " 'car (1).names',\n",
       " 'car.data',\n",
       " 'carbonnanotube.ipynb',\n",
       " 'carbon_nanotubes.csv',\n",
       " 'cd',\n",
       " 'Contacts',\n",
       " 'Cookies',\n",
       " 'cricket.csv',\n",
       " 'dfsfssdf',\n",
       " 'Documents',\n",
       " 'Downloads',\n",
       " 'errorInfo.txt',\n",
       " 'Favorites',\n",
       " 'flask_demo',\n",
       " 'google.txt',\n",
       " 'graph.ipynb',\n",
       " 'hjhj',\n",
       " 'hjhj.csv',\n",
       " 'ineuron',\n",
       " 'ineuron.db',\n",
       " 'IntelGraphicsProfiles',\n",
       " 'Links',\n",
       " 'Local Settings',\n",
       " 'Microsoft',\n",
       " 'mongo db ...ipynb',\n",
       " 'Music',\n",
       " 'my',\n",
       " 'My Documents',\n",
       " 'my module.py',\n",
       " 'mysql',\n",
       " 'NBA.csv',\n",
       " 'NetHood',\n",
       " 'NTUSER.DAT',\n",
       " 'ntuser.dat.LOG1',\n",
       " 'ntuser.dat.LOG2',\n",
       " 'NTUSER.DAT{1c2b59c6-c5f5-11eb-bacb-000d3a96488e}.TM.blf',\n",
       " 'NTUSER.DAT{1c2b59c6-c5f5-11eb-bacb-000d3a96488e}.TMContainer00000000000000000001.regtrans-ms',\n",
       " 'NTUSER.DAT{1c2b59c6-c5f5-11eb-bacb-000d3a96488e}.TMContainer00000000000000000002.regtrans-ms',\n",
       " 'ntuser.ini',\n",
       " 'ohana-api-master',\n",
       " 'one.csv',\n",
       " 'OneDrive',\n",
       " 'panda.ipynb',\n",
       " 'pandas.ipynb',\n",
       " 'person.db',\n",
       " 'person.db-journal',\n",
       " 'Postman',\n",
       " 'PrintHood',\n",
       " 'Recent',\n",
       " 'Saved Games',\n",
       " 'seaborn-data',\n",
       " 'Searches',\n",
       " 'SendTo',\n",
       " 'shashi.py',\n",
       " 'somefolder',\n",
       " 'spam.txt',\n",
       " 'SQLLITE.ipynb',\n",
       " 'Start Menu',\n",
       " 'Templates',\n",
       " 'test.txt',\n",
       " 'test1.txt',\n",
       " 'test2.txt',\n",
       " 'test3.py',\n",
       " 'test3.txt',\n",
       " 'test4.py',\n",
       " 'test43.txt',\n",
       " 'test5.py',\n",
       " 'test9.py',\n",
       " 'test98.txt',\n",
       " 'tkinter.ipynb',\n",
       " 'today.txt',\n",
       " 'Tracing',\n",
       " 'Untitled.ipynb',\n",
       " 'untitled.txt',\n",
       " 'Untitled1.ipynb',\n",
       " 'untitled1.txt',\n",
       " 'Untitled10.ipynb',\n",
       " 'Untitled11.ipynb',\n",
       " 'Untitled12.ipynb',\n",
       " 'Untitled13.ipynb',\n",
       " 'Untitled14.ipynb',\n",
       " 'Untitled15.ipynb',\n",
       " 'Untitled16.ipynb',\n",
       " 'Untitled17.ipynb',\n",
       " 'Untitled18.ipynb',\n",
       " 'Untitled19.ipynb',\n",
       " 'Untitled2.ipynb',\n",
       " 'untitled2.txt',\n",
       " 'Untitled20.ipynb',\n",
       " 'Untitled21.ipynb',\n",
       " 'Untitled22.ipynb',\n",
       " 'Untitled23.ipynb',\n",
       " 'Untitled24.ipynb',\n",
       " 'Untitled25.ipynb',\n",
       " 'Untitled26.ipynb',\n",
       " 'Untitled27.ipynb',\n",
       " 'Untitled28.ipynb',\n",
       " 'Untitled29.ipynb',\n",
       " 'Untitled3.ipynb',\n",
       " 'Untitled30.ipynb',\n",
       " 'Untitled31.ipynb',\n",
       " 'Untitled32.ipynb',\n",
       " 'Untitled33.ipynb',\n",
       " 'Untitled34.ipynb',\n",
       " 'Untitled35.ipynb',\n",
       " 'Untitled36.ipynb',\n",
       " 'Untitled37.ipynb',\n",
       " 'Untitled38.ipynb',\n",
       " 'Untitled39.ipynb',\n",
       " 'Untitled4.ipynb',\n",
       " 'Untitled40.ipynb',\n",
       " 'Untitled41.ipynb',\n",
       " 'Untitled42.ipynb',\n",
       " 'Untitled43.ipynb',\n",
       " 'Untitled44.ipynb',\n",
       " 'Untitled45.ipynb',\n",
       " 'Untitled46.ipynb',\n",
       " 'Untitled47.ipynb',\n",
       " 'Untitled48.ipynb',\n",
       " 'Untitled49.ipynb',\n",
       " 'Untitled5.ipynb',\n",
       " 'Untitled50.ipynb',\n",
       " 'Untitled51.ipynb',\n",
       " 'Untitled52.ipynb',\n",
       " 'Untitled53.ipynb',\n",
       " 'Untitled54.ipynb',\n",
       " 'Untitled55.ipynb',\n",
       " 'Untitled56.ipynb',\n",
       " 'Untitled57.ipynb',\n",
       " 'Untitled58.ipynb',\n",
       " 'Untitled59.ipynb',\n",
       " 'Untitled6.ipynb',\n",
       " 'Untitled60.ipynb',\n",
       " 'Untitled61.ipynb',\n",
       " 'Untitled62.ipynb',\n",
       " 'Untitled63.ipynb',\n",
       " 'Untitled64.ipynb',\n",
       " 'Untitled65.ipynb',\n",
       " 'Untitled66.ipynb',\n",
       " 'Untitled67.ipynb',\n",
       " 'Untitled68.ipynb',\n",
       " 'Untitled69.ipynb',\n",
       " 'Untitled7.ipynb',\n",
       " 'Untitled70.ipynb',\n",
       " 'Untitled71.ipynb',\n",
       " 'Untitled72.ipynb',\n",
       " 'Untitled73.ipynb',\n",
       " 'Untitled74.ipynb',\n",
       " 'Untitled75.ipynb',\n",
       " 'Untitled76.ipynb',\n",
       " 'Untitled77.ipynb',\n",
       " 'Untitled78.ipynb',\n",
       " 'Untitled79.ipynb',\n",
       " 'Untitled8.ipynb',\n",
       " 'Untitled80.ipynb',\n",
       " 'Untitled81.ipynb',\n",
       " 'Untitled82.ipynb',\n",
       " 'Untitled83.ipynb',\n",
       " 'Untitled84.ipynb',\n",
       " 'Untitled85.ipynb',\n",
       " 'Untitled86.ipynb',\n",
       " 'Untitled87.ipynb',\n",
       " 'Untitled9.ipynb',\n",
       " 'Videos',\n",
       " 'vocab.enron.txt',\n",
       " 'vocab.kos.txt',\n",
       " 'vocab.nips.txt',\n",
       " 'vocab.nytimes.txt',\n",
       " 'vocab.pubmed.txt',\n",
       " 'xyz.pdf',\n",
       " 'zoo.ipynb',\n",
       " 'zoo.py',\n",
       " 'zoo.txt',\n",
       " '__pycache__']"
      ]
     },
     "execution_count": 1,
     "metadata": {},
     "output_type": "execute_result"
    }
   ],
   "source": [
    "import os \n",
    "os.listdir()"
   ]
  },
  {
   "cell_type": "markdown",
   "id": "6e25b09f",
   "metadata": {},
   "source": [
    "6) Use multiprocessing to create three separate processes. Make each one wait a random number of seconds between one and five, print the current time, and then exit."
   ]
  },
  {
   "cell_type": "code",
   "execution_count": 1,
   "id": "761ecde9",
   "metadata": {},
   "outputs": [],
   "source": [
    "import multiprocessing\n",
    "import time \n",
    "import random\n",
    "import datetime\n",
    "\n",
    "def procOne():\n",
    "    print(f'Proc_one_Starttime -> {datetime.datetime.now()}')\n",
    "    time.sleep(random.randint(1,5))\n",
    "    print(f'Proc_one_Endtime -> {datetime.datetime.now()}')\n",
    "    \n",
    "def procTwo():\n",
    "    print(f'Proc_two_Starttime -> {datetime.datetime.now()}')\n",
    "    time.sleep(random.randint(1,5))\n",
    "    print(f'Proc_two_Endtime -> {datetime.datetime.now()}')\n",
    "\n",
    "def procThree():\n",
    "    print(f'Proc_two_Starttime -> {datetime.datetime.now()}')\n",
    "    time.sleep(random.randint(1,5))\n",
    "    print(f'Proc_two_Endtime -> {datetime.datetime.now()}')\n",
    "    \n",
    "if __name__ == \"__main__\":    \n",
    "    p1 = multiprocessing.Process(target=procOne)\n",
    "    p2 = multiprocessing.Process(target=procTwo)\n",
    "    p3 = multiprocessing.Process(target=procThree)\n",
    "\n",
    "    p1.start()\n",
    "    p2.start()\n",
    "    p3.start()\n",
    "\n",
    "    p1.join()\n",
    "    p2.join()\n",
    "    p3.join()"
   ]
  },
  {
   "cell_type": "code",
   "execution_count": 3,
   "id": "122acd76",
   "metadata": {},
   "outputs": [
    {
     "data": {
      "text/plain": [
       "<Process name='Process-2' pid=143976 parent=187348 stopped exitcode=1>"
      ]
     },
     "execution_count": 3,
     "metadata": {},
     "output_type": "execute_result"
    }
   ],
   "source": [
    "p2"
   ]
  },
  {
   "cell_type": "markdown",
   "id": "d35c6d17",
   "metadata": {},
   "source": [
    "7) Create a date object of your day of birth."
   ]
  },
  {
   "cell_type": "code",
   "execution_count": 1,
   "id": "b0241cc2",
   "metadata": {},
   "outputs": [
    {
     "name": "stdout",
     "output_type": "stream",
     "text": [
      "1996-04-02 00:00:00 <class 'datetime.datetime'>\n"
     ]
    }
   ],
   "source": [
    "from datetime import datetime\n",
    "my_dob = datetime.strptime('02/04/1996','%d/%m/%Y')\n",
    "print(my_dob, type(my_dob))"
   ]
  },
  {
   "cell_type": "markdown",
   "id": "aab3eed4",
   "metadata": {},
   "source": [
    "8) What day of the week was your day of birth?"
   ]
  },
  {
   "cell_type": "code",
   "execution_count": 2,
   "id": "7aa6b060",
   "metadata": {},
   "outputs": [
    {
     "data": {
      "text/plain": [
       "'Tuesday'"
      ]
     },
     "execution_count": 2,
     "metadata": {},
     "output_type": "execute_result"
    }
   ],
   "source": [
    "from datetime import datetime\n",
    "my_dob = datetime(1996,4,2)\n",
    "my_dob.strftime(\"%A\")"
   ]
  },
  {
   "cell_type": "markdown",
   "id": "d92dd89d",
   "metadata": {},
   "source": [
    "9) When will you be (or when were you) 10,000 days old?"
   ]
  },
  {
   "cell_type": "code",
   "execution_count": 10,
   "id": "e1e27e13",
   "metadata": {},
   "outputs": [
    {
     "data": {
      "text/plain": [
       "datetime.datetime(1968, 11, 15, 0, 0)"
      ]
     },
     "execution_count": 10,
     "metadata": {},
     "output_type": "execute_result"
    }
   ],
   "source": [
    "from datetime import datetime, timedelta\n",
    "my_dob = datetime.strptime(\"02/04/1996\",'%d/%m/%Y')\n",
    "future_date = my_dob-timedelta(10000)\n",
    "future_date"
   ]
  },
  {
   "cell_type": "code",
   "execution_count": null,
   "id": "8ad17702",
   "metadata": {},
   "outputs": [],
   "source": []
  }
 ],
 "metadata": {
  "kernelspec": {
   "display_name": "Python 3 (ipykernel)",
   "language": "python",
   "name": "python3"
  },
  "language_info": {
   "codemirror_mode": {
    "name": "ipython",
    "version": 3
   },
   "file_extension": ".py",
   "mimetype": "text/x-python",
   "name": "python",
   "nbconvert_exporter": "python",
   "pygments_lexer": "ipython3",
   "version": "3.9.7"
  }
 },
 "nbformat": 4,
 "nbformat_minor": 5
}
