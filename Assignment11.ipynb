{
 "cells": [
  {
   "cell_type": "markdown",
   "id": "c95a8c2e",
   "metadata": {},
   "source": [
    "1) Create an assert statement that throws an AssertionError if the variable spam is a negative integer."
   ]
  },
  {
   "cell_type": "markdown",
   "id": "4d0580b0",
   "metadata": {},
   "source": [
    "assert spam >= 0, 'The spam variable is a negative integer.'"
   ]
  },
  {
   "cell_type": "markdown",
   "id": "13e8bd6f",
   "metadata": {},
   "source": [
    "2). Write an assert statement that triggers an AssertionError if the variables eggs and bacon contain strings that are the same as each other, even if their cases are different (that is, 'hello' and 'hello' are considered the same, and 'goodbye' and 'GOODbye' are also considered the same)."
   ]
  },
  {
   "cell_type": "markdown",
   "id": "acd46e68",
   "metadata": {},
   "source": [
    "Either assert eggs.lower() != bacon.lower() 'The eggs and bacon variables\n",
    "are the same!' or assert eggs.upper() != bacon.upper(), 'The eggs and\n",
    "bacon variables are the same!'"
   ]
  },
  {
   "cell_type": "markdown",
   "id": "69195e53",
   "metadata": {},
   "source": [
    "3). Create an assert statement that throws an AssertionError every time."
   ]
  },
  {
   "cell_type": "markdown",
   "id": "ab6549ef",
   "metadata": {},
   "source": [
    "assert False, 'This assertion always triggers.'"
   ]
  },
  {
   "cell_type": "markdown",
   "id": "44d9d873",
   "metadata": {},
   "source": [
    "4). What are the two lines that must be present in your software in order to call logging.debug()?"
   ]
  },
  {
   "cell_type": "code",
   "execution_count": null,
   "id": "2a0df5e4",
   "metadata": {},
   "outputs": [],
   "source": [
    "import logging\n",
    "logging.basicConfig(level=logging.DEBUG, format=' %(asctime)s -%(levelname)s - %(message)s')"
   ]
  },
  {
   "cell_type": "markdown",
   "id": "8424d0b8",
   "metadata": {},
   "source": [
    "5). What are the two lines that your program must have in order to have logging.debug() send a logging message to a file named programLog.txt?"
   ]
  },
  {
   "cell_type": "code",
   "execution_count": null,
   "id": "d334b235",
   "metadata": {},
   "outputs": [],
   "source": [
    "import logging\n",
    "logging.basicConfig(filename='programLog.txt' level=logging.DEBUG, format=' %(asctime)s -%(levelname)s -%(message)s')"
   ]
  },
  {
   "cell_type": "markdown",
   "id": "f88eff41",
   "metadata": {},
   "source": [
    "6). What are the five levels of logging?"
   ]
  },
  {
   "cell_type": "markdown",
   "id": "af92a711",
   "metadata": {},
   "source": [
    "DEBUG, INFO, WARNING, ERROR, and CRITICAL"
   ]
  },
  {
   "cell_type": "markdown",
   "id": "7cbc01b0",
   "metadata": {},
   "source": [
    "7). What line of code would you add to your software to disable all logging messages?"
   ]
  },
  {
   "cell_type": "markdown",
   "id": "c4aceeff",
   "metadata": {},
   "source": [
    "logging.disable(logging.CRITICAL)"
   ]
  },
  {
   "cell_type": "markdown",
   "id": "e3b2b368",
   "metadata": {},
   "source": [
    "8).Why is using logging messages better than using print() to display the same message?"
   ]
  },
  {
   "cell_type": "markdown",
   "id": "492c70f3",
   "metadata": {},
   "source": [
    "You can disable logging messages without removing the logging function\n",
    "calls. You can selectively disable lower-level logging messages. You\n",
    "can create logging messages. Logging messages provides a timestamp."
   ]
  },
  {
   "cell_type": "markdown",
   "id": "3e97b852",
   "metadata": {},
   "source": [
    "9). What are the differences between the Step Over, Step In, and Step Out buttons in the debugger?"
   ]
  },
  {
   "cell_type": "markdown",
   "id": "97f1aff4",
   "metadata": {},
   "source": [
    "The Step In button will move the debugger into a function call. The\n",
    "Step Over button will quickly execute the function call without stepping\n",
    "into it. The Step Out button will quickly execute the rest of the\n",
    "code until it steps out of the function it currently is in"
   ]
  },
  {
   "cell_type": "markdown",
   "id": "da33133d",
   "metadata": {},
   "source": [
    "10).After you click Continue, when will the debugger stop ?"
   ]
  },
  {
   "cell_type": "markdown",
   "id": "44640a28",
   "metadata": {},
   "source": [
    "After you click Continue, the debugger will stop when it has reached\n",
    "the end of the program or a line with a breakpoint."
   ]
  },
  {
   "cell_type": "markdown",
   "id": "3895070c",
   "metadata": {},
   "source": [
    "11). What is the concept of a breakpoint?"
   ]
  },
  {
   "cell_type": "markdown",
   "id": "15d4450a",
   "metadata": {},
   "source": [
    "A breakpoint is a setting on a line of code that causes the debugger to\n",
    "pause when the program execution reaches the line."
   ]
  },
  {
   "cell_type": "code",
   "execution_count": null,
   "id": "916f78fe",
   "metadata": {},
   "outputs": [],
   "source": []
  }
 ],
 "metadata": {
  "kernelspec": {
   "display_name": "Python 3 (ipykernel)",
   "language": "python",
   "name": "python3"
  },
  "language_info": {
   "codemirror_mode": {
    "name": "ipython",
    "version": 3
   },
   "file_extension": ".py",
   "mimetype": "text/x-python",
   "name": "python",
   "nbconvert_exporter": "python",
   "pygments_lexer": "ipython3",
   "version": "3.9.7"
  }
 },
 "nbformat": 4,
 "nbformat_minor": 5
}
