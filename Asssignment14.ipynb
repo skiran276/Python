{
 "cells": [
  {
   "cell_type": "markdown",
   "id": "270fd8df",
   "metadata": {},
   "source": [
    "1) What does RGBA stand for?"
   ]
  },
  {
   "cell_type": "markdown",
   "id": "dcc8af2d",
   "metadata": {},
   "source": [
    "An RGBA value is a tuple of 4 integers, each ranging from 0 to 255. The\n",
    "four integers correspond to the amount of red, green, blue, and alpha\n",
    "(transparency) in the color."
   ]
  },
  {
   "cell_type": "markdown",
   "id": "945e6caa",
   "metadata": {},
   "source": [
    "2) From the Pillow module, how do you get the RGBA value of any images?"
   ]
  },
  {
   "cell_type": "markdown",
   "id": "d7313a94",
   "metadata": {},
   "source": [
    "use A function call to ImageColor.getcolor()"
   ]
  },
  {
   "cell_type": "markdown",
   "id": "c4b61b44",
   "metadata": {},
   "source": [
    "3) What is a box tuple, and how does it work?"
   ]
  },
  {
   "cell_type": "markdown",
   "id": "c0c8f118",
   "metadata": {},
   "source": [
    "A box tuple is a tuple value of four integers: the left-edge x-coordinate,\n",
    "the top-edge y-coordinate, the width, and the height, respectively."
   ]
  },
  {
   "cell_type": "markdown",
   "id": "f5736ba9",
   "metadata": {},
   "source": [
    "4) Use your image and load in notebook then, How can you find out the width and height of an Image object?"
   ]
  },
  {
   "cell_type": "markdown",
   "id": "aee88ef4",
   "metadata": {},
   "source": [
    "imageObj.size is a tuple of two integers, the width and the height."
   ]
  },
  {
   "cell_type": "markdown",
   "id": "30432de9",
   "metadata": {},
   "source": [
    "5) What method would you call to get Image object for a 100×100 image, excluding the lower-left quarter of it?"
   ]
  },
  {
   "cell_type": "markdown",
   "id": "09066601",
   "metadata": {},
   "source": [
    "imageObj.crop((0, 50, 50, 50)). Notice that you are passing a box tuple to\n",
    "crop(), not four separate integer arguments."
   ]
  },
  {
   "cell_type": "markdown",
   "id": "f29e405b",
   "metadata": {},
   "source": [
    "6) After making changes to an Image object, how could you save it as an image file?"
   ]
  },
  {
   "cell_type": "markdown",
   "id": "b00cf63a",
   "metadata": {},
   "source": [
    "Call the imageObj.save('new_filename.png') method of the Image object."
   ]
  },
  {
   "cell_type": "markdown",
   "id": "2f3d6937",
   "metadata": {},
   "source": [
    "7) What module contains Pillow’s shape-drawing code?"
   ]
  },
  {
   "cell_type": "markdown",
   "id": "22492e03",
   "metadata": {},
   "source": [
    "The ImageDraw module contains code to draw on images."
   ]
  },
  {
   "cell_type": "markdown",
   "id": "3a44fcd6",
   "metadata": {},
   "source": [
    "8) Image objects do not have drawing methods. What kind of object does? How do you get this kind of object?"
   ]
  },
  {
   "cell_type": "markdown",
   "id": "2724a19b",
   "metadata": {},
   "source": [
    "ImageDraw objects have shape-drawing methods such as point(), line(),\n",
    "or rectangle(). They are returned by passing the Image object to the\n",
    "ImageDraw.Draw() function"
   ]
  }
 ],
 "metadata": {
  "kernelspec": {
   "display_name": "Python 3 (ipykernel)",
   "language": "python",
   "name": "python3"
  },
  "language_info": {
   "codemirror_mode": {
    "name": "ipython",
    "version": 3
   },
   "file_extension": ".py",
   "mimetype": "text/x-python",
   "name": "python",
   "nbconvert_exporter": "python",
   "pygments_lexer": "ipython3",
   "version": "3.9.7"
  }
 },
 "nbformat": 4,
 "nbformat_minor": 5
}
