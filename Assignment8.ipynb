{
 "cells": [
  {
   "cell_type": "markdown",
   "id": "601cd546",
   "metadata": {},
   "source": [
    "1. Is the Python Standard Library included with PyInputPlus?"
   ]
  },
  {
   "cell_type": "markdown",
   "id": "82f3d481",
   "metadata": {},
   "source": [
    "No. PyInputPlus is a third-party module and doesn’t come with the\n",
    "Python Standard Library."
   ]
  },
  {
   "cell_type": "markdown",
   "id": "3171b04c",
   "metadata": {},
   "source": [
    "2. Why is PyInputPlus commonly imported with import pyinputplus as pypi?"
   ]
  },
  {
   "cell_type": "markdown",
   "id": "ce6a6879",
   "metadata": {},
   "source": [
    "This optionally makes your code shorter to type: you can type pyip\n",
    ".inputStr() instead of pyinputplus.inputStr()."
   ]
  },
  {
   "cell_type": "markdown",
   "id": "cb953c49",
   "metadata": {},
   "source": [
    "3. How do you distinguish between inputInt() and inputFloat()?"
   ]
  },
  {
   "cell_type": "markdown",
   "id": "b2fa2838",
   "metadata": {},
   "source": [
    "The inputInt() function returns an int value, while the inputFloat()\n",
    "function returns a float value. This is the difference between returning\n",
    "4 and 4.0."
   ]
  },
  {
   "cell_type": "markdown",
   "id": "27606e6b",
   "metadata": {},
   "source": [
    "4. Using PyInputPlus, how do you ensure that the user enters a whole number between 0 and 99?"
   ]
  },
  {
   "cell_type": "markdown",
   "id": "34cbc90c",
   "metadata": {},
   "source": [
    "Call pyip.inputint(min=0, max=99)."
   ]
  },
  {
   "cell_type": "markdown",
   "id": "5b8c65ea",
   "metadata": {},
   "source": [
    "5. What is transferred to the keyword arguments allowRegexes and blockRegexes?"
   ]
  },
  {
   "cell_type": "markdown",
   "id": "0baa3de0",
   "metadata": {},
   "source": [
    "A list of regex strings that are either explicitly allowed or denied"
   ]
  },
  {
   "cell_type": "markdown",
   "id": "b591453c",
   "metadata": {},
   "source": [
    "6. If a blank input is entered three times, what does inputStr(limit=3) do?"
   ]
  },
  {
   "cell_type": "markdown",
   "id": "aade9e39",
   "metadata": {},
   "source": [
    "The function will raise RetryLimitException"
   ]
  },
  {
   "cell_type": "markdown",
   "id": "a83164e8",
   "metadata": {},
   "source": [
    "7. If blank input is entered three times, what does inputStr(limit=3, default='hello') do?"
   ]
  },
  {
   "cell_type": "markdown",
   "id": "ab145d55",
   "metadata": {},
   "source": [
    "The function returns the value 'hello'."
   ]
  }
 ],
 "metadata": {
  "kernelspec": {
   "display_name": "Python 3 (ipykernel)",
   "language": "python",
   "name": "python3"
  },
  "language_info": {
   "codemirror_mode": {
    "name": "ipython",
    "version": 3
   },
   "file_extension": ".py",
   "mimetype": "text/x-python",
   "name": "python",
   "nbconvert_exporter": "python",
   "pygments_lexer": "ipython3",
   "version": "3.9.7"
  }
 },
 "nbformat": 4,
 "nbformat_minor": 5
}
