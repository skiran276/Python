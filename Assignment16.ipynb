{
 "cells": [
  {
   "cell_type": "markdown",
   "id": "f087eba8",
   "metadata": {},
   "source": [
    "1) Create a list called years_list, starting with the year of your birth, and each year thereafter until the year of your fifth birthday. For example, if you were born in 1980. the list would be years_list = [1980, 1981, 1982, 1983, 1984, 1985]."
   ]
  },
  {
   "cell_type": "code",
   "execution_count": 1,
   "id": "7264d4c5",
   "metadata": {},
   "outputs": [],
   "source": [
    "years_list = [1996, 1997, 1998, 1999, 2000, 2001]"
   ]
  },
  {
   "cell_type": "markdown",
   "id": "5e0cc682",
   "metadata": {},
   "source": [
    "2) In which year in years_list was your third birthday? Remember, you were 0 years of age for your first year."
   ]
  },
  {
   "cell_type": "code",
   "execution_count": 2,
   "id": "9099b8d1",
   "metadata": {},
   "outputs": [
    {
     "data": {
      "text/plain": [
       "1999"
      ]
     },
     "execution_count": 2,
     "metadata": {},
     "output_type": "execute_result"
    }
   ],
   "source": [
    "1999"
   ]
  },
  {
   "cell_type": "markdown",
   "id": "7df3790d",
   "metadata": {},
   "source": [
    "3)In the years list, which year were you the oldest?"
   ]
  },
  {
   "cell_type": "code",
   "execution_count": 3,
   "id": "4410ab3e",
   "metadata": {},
   "outputs": [
    {
     "data": {
      "text/plain": [
       "2001"
      ]
     },
     "execution_count": 3,
     "metadata": {},
     "output_type": "execute_result"
    }
   ],
   "source": [
    "2001"
   ]
  },
  {
   "cell_type": "markdown",
   "id": "d68640a7",
   "metadata": {},
   "source": [
    "4) Make a list called things with these three strings as elements: \"mozzarella\", \"cinderella\", \"salmonella\"."
   ]
  },
  {
   "cell_type": "code",
   "execution_count": 6,
   "id": "cfa324dc",
   "metadata": {},
   "outputs": [],
   "source": [
    "things=[\"mozzarella\", \"cinderella\", \"salmonella\"]"
   ]
  },
  {
   "cell_type": "markdown",
   "id": "9e2235af",
   "metadata": {},
   "source": [
    "5) Capitalize the element in things that refers to a person and then print the list. Did it change the element in the list?"
   ]
  },
  {
   "cell_type": "code",
   "execution_count": 14,
   "id": "f6415d45",
   "metadata": {},
   "outputs": [
    {
     "name": "stdout",
     "output_type": "stream",
     "text": [
      "['Mozzarella', 'Cinderella', 'Salmonella']\n"
     ]
    }
   ],
   "source": [
    "things=[i.capitalize() for i in things]\n",
    "print(things)"
   ]
  },
  {
   "cell_type": "markdown",
   "id": "7cb6e49f",
   "metadata": {},
   "source": [
    "6. Make a surprise list with the elements \"Groucho,\" \"Chico,\" and \"Harpo.\""
   ]
  },
  {
   "cell_type": "code",
   "execution_count": 15,
   "id": "b16b65f9",
   "metadata": {},
   "outputs": [],
   "source": [
    "surprise =[\"Groucho\",\"Chico\",\"Harpo\"]"
   ]
  },
  {
   "cell_type": "markdown",
   "id": "b29aea21",
   "metadata": {},
   "source": [
    "7) Lowercase the last element of the surprise list, reverse it, and then capitalize it."
   ]
  },
  {
   "cell_type": "code",
   "execution_count": 17,
   "id": "841c2273",
   "metadata": {},
   "outputs": [],
   "source": [
    "s=surprise[2].lower()"
   ]
  },
  {
   "cell_type": "code",
   "execution_count": 18,
   "id": "e061f30c",
   "metadata": {},
   "outputs": [
    {
     "data": {
      "text/plain": [
       "'harpo'"
      ]
     },
     "execution_count": 18,
     "metadata": {},
     "output_type": "execute_result"
    }
   ],
   "source": [
    "s"
   ]
  },
  {
   "cell_type": "code",
   "execution_count": 19,
   "id": "fbe3a7f1",
   "metadata": {},
   "outputs": [
    {
     "data": {
      "text/plain": [
       "'oprah'"
      ]
     },
     "execution_count": 19,
     "metadata": {},
     "output_type": "execute_result"
    }
   ],
   "source": [
    "s[::-1]"
   ]
  },
  {
   "cell_type": "code",
   "execution_count": 20,
   "id": "2503ee46",
   "metadata": {},
   "outputs": [
    {
     "data": {
      "text/plain": [
       "'Harpo'"
      ]
     },
     "execution_count": 20,
     "metadata": {},
     "output_type": "execute_result"
    }
   ],
   "source": [
    "s.capitalize()"
   ]
  },
  {
   "cell_type": "markdown",
   "id": "78309f51",
   "metadata": {},
   "source": [
    "8) Make an English-to-French dictionary called e2f and print it. Here are your starter words: dog is chien, cat is chat, and walrus is morse."
   ]
  },
  {
   "cell_type": "code",
   "execution_count": 21,
   "id": "5ba4dd7d",
   "metadata": {},
   "outputs": [],
   "source": [
    "e2f = {'dog':'chien', 'cat':'chat', 'walrus':'morse'}"
   ]
  },
  {
   "cell_type": "markdown",
   "id": "6d0645bd",
   "metadata": {},
   "source": [
    "9) Write the French word for walrus in your three-word dictionary e2f."
   ]
  },
  {
   "cell_type": "code",
   "execution_count": 22,
   "id": "bf857463",
   "metadata": {},
   "outputs": [
    {
     "data": {
      "text/plain": [
       "'morse'"
      ]
     },
     "execution_count": 22,
     "metadata": {},
     "output_type": "execute_result"
    }
   ],
   "source": [
    "e2f['walrus']"
   ]
  },
  {
   "cell_type": "markdown",
   "id": "f733a215",
   "metadata": {},
   "source": [
    "10) Make a French-to-English dictionary called f2e from e2f. Use the items method."
   ]
  },
  {
   "cell_type": "code",
   "execution_count": 25,
   "id": "5cf0addf",
   "metadata": {},
   "outputs": [
    {
     "name": "stdout",
     "output_type": "stream",
     "text": [
      "{'chien': 'dog', 'chat': 'cat', 'morse': 'walrus'}\n"
     ]
    }
   ],
   "source": [
    "f2e = dict((k,v) for v,k in e2f.items())\n",
    "print (f2e)"
   ]
  },
  {
   "cell_type": "markdown",
   "id": "d18ceae2",
   "metadata": {},
   "source": [
    "11) Print the English version of the French word chien using f2e."
   ]
  },
  {
   "cell_type": "code",
   "execution_count": 26,
   "id": "85493042",
   "metadata": {},
   "outputs": [
    {
     "data": {
      "text/plain": [
       "'dog'"
      ]
     },
     "execution_count": 26,
     "metadata": {},
     "output_type": "execute_result"
    }
   ],
   "source": [
    "f2e['chien']"
   ]
  },
  {
   "cell_type": "markdown",
   "id": "2fed2253",
   "metadata": {},
   "source": [
    "12) Make and print a set of English words from the keys in e2f."
   ]
  },
  {
   "cell_type": "code",
   "execution_count": 27,
   "id": "66820316",
   "metadata": {},
   "outputs": [
    {
     "data": {
      "text/plain": [
       "dict_keys(['dog', 'cat', 'walrus'])"
      ]
     },
     "execution_count": 27,
     "metadata": {},
     "output_type": "execute_result"
    }
   ],
   "source": [
    "e2f.keys()"
   ]
  },
  {
   "cell_type": "markdown",
   "id": "1bd876d2",
   "metadata": {},
   "source": [
    "13) Make a multilevel dictionary called life. Use these strings for the topmost keys: 'animals', 'plants', and 'other'. Make the 'animals' key refer to another dictionary with the keys 'cats', 'octopi', and 'emus'. Make the 'cats' key refer to a list of strings with the values 'Henri', 'Grumpy', and 'Lucy'. Make all the other keys refer to empty dictionaries."
   ]
  },
  {
   "cell_type": "code",
   "execution_count": 34,
   "id": "482c1125",
   "metadata": {},
   "outputs": [],
   "source": [
    "animal ={'cats':['Henri','Grumpy','Lucy'],'octopi':'','emus':''}\n",
    "life ={'animal':animal,'plants':'','other':''}"
   ]
  },
  {
   "cell_type": "markdown",
   "id": "8953c030",
   "metadata": {},
   "source": [
    "14) Print the top-level keys of life."
   ]
  },
  {
   "cell_type": "code",
   "execution_count": 35,
   "id": "ba2fdc75",
   "metadata": {},
   "outputs": [
    {
     "data": {
      "text/plain": [
       "dict_keys(['animal', 'plants', 'other'])"
      ]
     },
     "execution_count": 35,
     "metadata": {},
     "output_type": "execute_result"
    }
   ],
   "source": [
    "life.keys()"
   ]
  },
  {
   "cell_type": "markdown",
   "id": "97b2af45",
   "metadata": {},
   "source": [
    "15) Print the keys for life['animals']."
   ]
  },
  {
   "cell_type": "code",
   "execution_count": 36,
   "id": "71ed46b7",
   "metadata": {},
   "outputs": [
    {
     "data": {
      "text/plain": [
       "dict_keys(['cats', 'octopi', 'emus'])"
      ]
     },
     "execution_count": 36,
     "metadata": {},
     "output_type": "execute_result"
    }
   ],
   "source": [
    "life['animal'].keys()"
   ]
  },
  {
   "cell_type": "markdown",
   "id": "cbc98c6c",
   "metadata": {},
   "source": [
    "16) Print the values for life['animals']['cats']"
   ]
  },
  {
   "cell_type": "code",
   "execution_count": 37,
   "id": "039715b5",
   "metadata": {},
   "outputs": [
    {
     "data": {
      "text/plain": [
       "['Henri', 'Grumpy', 'Lucy']"
      ]
     },
     "execution_count": 37,
     "metadata": {},
     "output_type": "execute_result"
    }
   ],
   "source": [
    "life['animal']['cats']"
   ]
  }
 ],
 "metadata": {
  "kernelspec": {
   "display_name": "Python 3 (ipykernel)",
   "language": "python",
   "name": "python3"
  },
  "language_info": {
   "codemirror_mode": {
    "name": "ipython",
    "version": 3
   },
   "file_extension": ".py",
   "mimetype": "text/x-python",
   "name": "python",
   "nbconvert_exporter": "python",
   "pygments_lexer": "ipython3",
   "version": "3.9.7"
  }
 },
 "nbformat": 4,
 "nbformat_minor": 5
}
