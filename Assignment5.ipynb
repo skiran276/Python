{
 "cells": [
  {
   "cell_type": "markdown",
   "id": "20ca4d10",
   "metadata": {},
   "source": [
    "1. What does an empty dictionary's code look like?"
   ]
  },
  {
   "cell_type": "code",
   "execution_count": 1,
   "id": "6e243d1c",
   "metadata": {},
   "outputs": [],
   "source": [
    "items= {}"
   ]
  },
  {
   "cell_type": "markdown",
   "id": "b39f0f14",
   "metadata": {},
   "source": [
    "2. What is the value of a dictionary value with the key 'foo' and the value 42?"
   ]
  },
  {
   "cell_type": "code",
   "execution_count": 7,
   "id": "5b58f405",
   "metadata": {},
   "outputs": [],
   "source": [
    "d={'foo':42}"
   ]
  },
  {
   "cell_type": "code",
   "execution_count": 5,
   "id": "ae9a6a3a",
   "metadata": {},
   "outputs": [
    {
     "data": {
      "text/plain": [
       "{'foo': 42}"
      ]
     },
     "execution_count": 5,
     "metadata": {},
     "output_type": "execute_result"
    }
   ],
   "source": [
    "d"
   ]
  },
  {
   "cell_type": "markdown",
   "id": "ebe053e1",
   "metadata": {},
   "source": [
    "3. What is the most significant distinction between a dictionary and a list?"
   ]
  },
  {
   "cell_type": "markdown",
   "id": "35eb66d5",
   "metadata": {},
   "source": [
    "The items stored in a dictionary are unordered, while the items in a list\n",
    "are ordered."
   ]
  },
  {
   "cell_type": "markdown",
   "id": "1949e1e9",
   "metadata": {},
   "source": [
    "4. What happens if you try to access spam['foo'] if spam is {'bar': 100}?"
   ]
  },
  {
   "cell_type": "markdown",
   "id": "7907a464",
   "metadata": {},
   "source": [
    "you will get keyError"
   ]
  },
  {
   "cell_type": "markdown",
   "id": "e26bbe87",
   "metadata": {},
   "source": [
    "5. If a dictionary is stored in spam, what is the difference between the expressions 'cat' in spam and 'cat' in spam.keys()?"
   ]
  },
  {
   "cell_type": "markdown",
   "id": "020cd402",
   "metadata": {},
   "source": [
    "There is no difference. The in operator checks whether a value exists as\n",
    "a key in the dictionary."
   ]
  },
  {
   "cell_type": "markdown",
   "id": "0708cb01",
   "metadata": {},
   "source": [
    "6. If a dictionary is stored in spam, what is the difference between the expressions 'cat' in spam and 'cat' in spam.values()?"
   ]
  },
  {
   "cell_type": "markdown",
   "id": "f34f07ae",
   "metadata": {},
   "source": [
    "The 'cat' in spam checks whether there is a 'cat' key in the dictionary,\n",
    "while 'cat' in spam.values() checks whether there is a value 'cat' for\n",
    "one of the keys in spam."
   ]
  },
  {
   "cell_type": "markdown",
   "id": "c9093e01",
   "metadata": {},
   "source": [
    "7. What is a shortcut for the following code?\n",
    " if 'color' not in spam:\n",
    "spam['color'] = 'black'\n"
   ]
  },
  {
   "cell_type": "markdown",
   "id": "c9360c03",
   "metadata": {},
   "source": [
    "spam.setdefault('color', 'black')"
   ]
  },
  {
   "cell_type": "markdown",
   "id": "a31e4d3e",
   "metadata": {},
   "source": [
    "8. How do you \"pretty print\" dictionary values using which module and function?"
   ]
  },
  {
   "cell_type": "markdown",
   "id": "d12cf2ec",
   "metadata": {},
   "source": [
    "pprint.pprint()"
   ]
  },
  {
   "cell_type": "markdown",
   "id": "0f999fd7",
   "metadata": {},
   "source": []
  },
  {
   "cell_type": "markdown",
   "id": "e257fa06",
   "metadata": {},
   "source": []
  },
  {
   "cell_type": "markdown",
   "id": "4ab4de93",
   "metadata": {},
   "source": []
  }
 ],
 "metadata": {
  "kernelspec": {
   "display_name": "Python 3 (ipykernel)",
   "language": "python",
   "name": "python3"
  },
  "language_info": {
   "codemirror_mode": {
    "name": "ipython",
    "version": 3
   },
   "file_extension": ".py",
   "mimetype": "text/x-python",
   "name": "python",
   "nbconvert_exporter": "python",
   "pygments_lexer": "ipython3",
   "version": "3.9.7"
  }
 },
 "nbformat": 4,
 "nbformat_minor": 5
}
