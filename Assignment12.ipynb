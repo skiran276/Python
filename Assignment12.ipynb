{
 "cells": [
  {
   "cell_type": "markdown",
   "id": "0f215490",
   "metadata": {},
   "source": [
    "1)In what modes should the PdfFileReader() and PdfFileWriter() File objects will be opened?"
   ]
  },
  {
   "cell_type": "markdown",
   "id": "097aa98a",
   "metadata": {},
   "source": [
    "Read-binary ('rb') for PdfFileReader() and write-binary ('wb') for\n",
    "PdfFileWriter()"
   ]
  },
  {
   "cell_type": "markdown",
   "id": "9d847ee1",
   "metadata": {},
   "source": [
    "2) From a PdfFileReader object, how do you get a Page object for page 5?"
   ]
  },
  {
   "cell_type": "markdown",
   "id": "66e0532d",
   "metadata": {},
   "source": [
    "Calling getPage(4) will return a Page object for page 5, since page 0 is\n",
    "the first page."
   ]
  },
  {
   "cell_type": "markdown",
   "id": "61226b0f",
   "metadata": {},
   "source": [
    "3)  What PdfFileReader variable stores the number of pages in the PDF document?"
   ]
  },
  {
   "cell_type": "markdown",
   "id": "40e734c8",
   "metadata": {},
   "source": [
    "The numPages variable stores an integer of the number of pages in the\n",
    "PdfFileReader object."
   ]
  },
  {
   "cell_type": "markdown",
   "id": "0f6bce2d",
   "metadata": {},
   "source": [
    "4)  If a PdfFileReader object’s PDF is encrypted with the password swordfish, what must you do before you can obtain Page objects from it?"
   ]
  },
  {
   "cell_type": "markdown",
   "id": "c483e230",
   "metadata": {},
   "source": [
    "Call decrypt('swordfish')."
   ]
  },
  {
   "cell_type": "markdown",
   "id": "3e17ab5b",
   "metadata": {},
   "source": [
    "5) What methods do you use to rotate a page?"
   ]
  },
  {
   "cell_type": "markdown",
   "id": "362e91bd",
   "metadata": {},
   "source": [
    "The rotateClockwise() and rotateCounterClockwise() methods. The\n",
    "degrees to rotate is passed as an integer argument."
   ]
  },
  {
   "cell_type": "markdown",
   "id": "17c74e04",
   "metadata": {},
   "source": [
    "6) What is the difference between a Run object and a Paragraph object?"
   ]
  },
  {
   "cell_type": "markdown",
   "id": "25b47599",
   "metadata": {},
   "source": [
    "A document contains multiple paragraphs. A paragraph begins on a\n",
    "new line and contains multiple runs. Runs are contiguous groups of\n",
    "characters within a paragraph."
   ]
  },
  {
   "cell_type": "markdown",
   "id": "3e680c33",
   "metadata": {},
   "source": [
    "7)How do you obtain a list of Paragraph objects for a Document object that’s stored in a variable named doc?"
   ]
  },
  {
   "cell_type": "markdown",
   "id": "9cb0a51e",
   "metadata": {},
   "source": [
    "docx.Document('demo.docx')"
   ]
  },
  {
   "cell_type": "markdown",
   "id": "1865a980",
   "metadata": {},
   "source": [
    "8) What type of object has bold, underline, italic, strike, and outline variables?"
   ]
  },
  {
   "cell_type": "markdown",
   "id": "acd5f9fa",
   "metadata": {},
   "source": [
    "A Run object has these variables (not a Paragraph)."
   ]
  },
  {
   "cell_type": "markdown",
   "id": "8259ce15",
   "metadata": {},
   "source": [
    "9) What is the difference between False, True, and None for the bold variable?"
   ]
  },
  {
   "cell_type": "markdown",
   "id": "3625c5b1",
   "metadata": {},
   "source": [
    "True always makes the Run object bolded and False makes it always not\n",
    "bolded, no matter what the style’s bold setting is. None will make the Run\n",
    "object just use the style’s bold setting."
   ]
  },
  {
   "cell_type": "markdown",
   "id": "553eada9",
   "metadata": {},
   "source": [
    "10) How do you create a Document object for a new Word document?\n"
   ]
  },
  {
   "cell_type": "markdown",
   "id": "18d4a3fa",
   "metadata": {},
   "source": [
    "Call the docx.Document() function."
   ]
  },
  {
   "cell_type": "markdown",
   "id": "3e1cf85f",
   "metadata": {},
   "source": [
    "11) How do you add a paragraph with the text 'Hello, there!' to a Document object stored in a variable named doc?"
   ]
  },
  {
   "cell_type": "markdown",
   "id": "44cb392a",
   "metadata": {},
   "source": [
    "doc.add_paragraph('Hello there!')"
   ]
  },
  {
   "cell_type": "markdown",
   "id": "7db89bc9",
   "metadata": {},
   "source": [
    "12) What integers represent the levels of headings available in Word documents?"
   ]
  },
  {
   "cell_type": "markdown",
   "id": "12aedc01",
   "metadata": {},
   "source": [
    "The integers 0, 1, 2, 3, and 4"
   ]
  }
 ],
 "metadata": {
  "kernelspec": {
   "display_name": "Python 3 (ipykernel)",
   "language": "python",
   "name": "python3"
  },
  "language_info": {
   "codemirror_mode": {
    "name": "ipython",
    "version": 3
   },
   "file_extension": ".py",
   "mimetype": "text/x-python",
   "name": "python",
   "nbconvert_exporter": "python",
   "pygments_lexer": "ipython3",
   "version": "3.9.7"
  }
 },
 "nbformat": 4,
 "nbformat_minor": 5
}
