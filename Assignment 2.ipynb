{
 "cells": [
  {
   "cell_type": "markdown",
   "id": "2850a497",
   "metadata": {},
   "source": [
    "1.What are the two values of the Boolean data type? How do you write them?"
   ]
  },
  {
   "cell_type": "markdown",
   "id": "49ffd14e",
   "metadata": {},
   "source": [
    "Boolean values are True or False.Generally, it is used to represent the truth values of the expressions. For example, 1== 0 is True whereas 2<1 is False. "
   ]
  },
  {
   "cell_type": "markdown",
   "id": "f637e198",
   "metadata": {},
   "source": [
    "2. What are the three different types of Boolean operators?"
   ]
  },
  {
   "cell_type": "markdown",
   "id": "f4e2d977",
   "metadata": {},
   "source": [
    "The three basic boolean operators are: AND, OR, and NOT.\n"
   ]
  },
  {
   "cell_type": "markdown",
   "id": "b5f89f86",
   "metadata": {},
   "source": [
    "3. Make a list of each Boolean operator's truth tables (i.e. every possible combination of Boolean values for the operator and what it evaluate )."
   ]
  },
  {
   "cell_type": "raw",
   "id": "91877714",
   "metadata": {},
   "source": [
    "AND          OR         NOT     NAND       NOR\n",
    "A\tB\tQ   A\tB\tQ   A\tQ   A   B   Q  A   B   Q\n",
    "0\t0\t0   0\t0\t0   0   1   0   0   1  0   0   1\n",
    "0\t1\t0   0\t1\t1   1   0   0   1   1  0   1   0\n",
    "1\t0\t0   1\t0\t1           1   0   1  1   0   0\n",
    "1\t1\t1   1   1   1           1   0   0  1   0   0"
   ]
  },
  {
   "cell_type": "markdown",
   "id": "a072c66e",
   "metadata": {},
   "source": [
    "4. What are the values of the following expressions?"
   ]
  },
  {
   "cell_type": "code",
   "execution_count": 2,
   "id": "603e4132",
   "metadata": {},
   "outputs": [
    {
     "data": {
      "text/plain": [
       "True"
      ]
     },
     "execution_count": 2,
     "metadata": {},
     "output_type": "execute_result"
    }
   ],
   "source": [
    "(5 > 4) and (3 == 5)\n",
    "not (5 > 4)\n",
    "(5 > 4) or (3 == 5)\n",
    "not ((5 > 4) or (3 == 5))\n",
    "(True and True) and (True == False)\n",
    "(not False) or (not True)\n"
   ]
  },
  {
   "cell_type": "markdown",
   "id": "968e4a5e",
   "metadata": {},
   "source": [
    "5. What are the six comparison operators?"
   ]
  },
  {
   "cell_type": "raw",
   "id": "5d4a7ca8",
   "metadata": {},
   "source": [
    "# There are six main comparison operators: equal to(=), not equal to(!=), greater than(>), greater than or equal to(>=), less than(<), and less than or equal to(<=)"
   ]
  },
  {
   "cell_type": "markdown",
   "id": "97cb317b",
   "metadata": {},
   "source": [
    "6. How do you tell the difference between the equal to and assignment operators?Describe a condition and when you would use one."
   ]
  },
  {
   "cell_type": "markdown",
   "id": "78b52958",
   "metadata": {},
   "source": [
    "The “=” is an assignment operator,is used to assign the values to the variable,The '=='is  equal to operator checks whether the two given operands are equal or not."
   ]
  },
  {
   "cell_type": "code",
   "execution_count": 2,
   "id": "cf9647b2",
   "metadata": {},
   "outputs": [
    {
     "name": "stdout",
     "output_type": "stream",
     "text": [
      "<class 'int'>5\n",
      "<class 'int'>6\n",
      "enter the correct value\n"
     ]
    }
   ],
   "source": [
    "a=input(int)\n",
    "b=input(int)\n",
    "c=a+b\n",
    "\n",
    "if a==b:\n",
    "    print(\"the value is correct\")\n",
    "else:\n",
    "    print(\"enter the correct value\")"
   ]
  },
  {
   "cell_type": "markdown",
   "id": "af3db333",
   "metadata": {},
   "source": [
    "7. Identify the three blocks in this code:"
   ]
  },
  {
   "cell_type": "code",
   "execution_count": 3,
   "id": "2067df9c",
   "metadata": {},
   "outputs": [
    {
     "name": "stdout",
     "output_type": "stream",
     "text": [
      "ham\n",
      "spam\n",
      "spam\n"
     ]
    }
   ],
   "source": [
    "spam = 0\n",
    "if spam == 10:\n",
    "    print('eggs')\n",
    "if spam > 5:\n",
    "    print('bacon')\n",
    "else:\n",
    "    print('ham')\n",
    "    print('spam')\n",
    "    print('spam')\n"
   ]
  },
  {
   "cell_type": "markdown",
   "id": "9f7e94c7",
   "metadata": {},
   "source": [
    "8. Write code that prints Hello if 1 is stored in spam, prints Howdy if 2 is stored in spam, and prints Greetings! if anything else is stored in spam.\n",
    "\n"
   ]
  },
  {
   "cell_type": "code",
   "execution_count": 4,
   "id": "bc00107c",
   "metadata": {},
   "outputs": [
    {
     "name": "stdout",
     "output_type": "stream",
     "text": [
      "input value of spam\n",
      "1\n",
      "hello\n"
     ]
    }
   ],
   "source": [
    "print(\"input value of spam\")\n",
    "spam=int(input())\n",
    "\n",
    "if spam==1:\n",
    "    print(\"hello\")\n",
    "elif spam==2:\n",
    "    print(\"howdy\")\n",
    "else:\n",
    "    print(\"greetings\")"
   ]
  },
  {
   "cell_type": "markdown",
   "id": "d7f135d3",
   "metadata": {},
   "source": [
    "9.If your programme is stuck in an endless loop, what keys you’ll press?"
   ]
  },
  {
   "cell_type": "markdown",
   "id": "4a8d975d",
   "metadata": {},
   "source": [
    "CTRL-C"
   ]
  },
  {
   "cell_type": "markdown",
   "id": "5589ed3f",
   "metadata": {},
   "source": [
    "10. How can you tell the difference between break and continue?"
   ]
  },
  {
   "cell_type": "markdown",
   "id": "08f3e340",
   "metadata": {},
   "source": [
    "break statement stops the iteration in the loop,whereas a python  continue statement  skips the single iteration in the loop "
   ]
  },
  {
   "cell_type": "code",
   "execution_count": 2,
   "id": "9c593461",
   "metadata": {},
   "outputs": [
    {
     "name": "stdout",
     "output_type": "stream",
     "text": [
      "1\n",
      "2\n"
     ]
    }
   ],
   "source": [
    "i=0\n",
    "while i<=5:\n",
    "    i=i+1\n",
    "    if i==3:\n",
    "        break\n",
    "    print(i)"
   ]
  },
  {
   "cell_type": "code",
   "execution_count": 3,
   "id": "f4f7d65b",
   "metadata": {},
   "outputs": [
    {
     "name": "stdout",
     "output_type": "stream",
     "text": [
      "1\n",
      "2\n",
      "4\n",
      "5\n",
      "6\n"
     ]
    }
   ],
   "source": [
    "i=0\n",
    "while i<=5:\n",
    "    i=i+1\n",
    "    if i==3:\n",
    "        continue\n",
    "    print(i)"
   ]
  },
  {
   "cell_type": "markdown",
   "id": "8d137312",
   "metadata": {},
   "source": [
    "11. In a for loop, what is the difference between range(10), range(0, 10), and range(0, 10, 1)?"
   ]
  },
  {
   "cell_type": "raw",
   "id": "cf17959e",
   "metadata": {},
   "source": [
    "range(10) = defines range upto 10\n",
    "range(0, 10) = defines the range as between 0 and 10.\n",
    "range(0, 10, 1) defines the range as between 0 and 10 with steps of 1."
   ]
  },
  {
   "cell_type": "markdown",
   "id": "649b6c0e",
   "metadata": {},
   "source": [
    "12. Write a short program that prints the numbers 1 to 10 using a for loop. Then write an equivalent program that prints the numbers 1 to 10 using a while loop."
   ]
  },
  {
   "cell_type": "code",
   "execution_count": 21,
   "id": "7c93d433",
   "metadata": {},
   "outputs": [
    {
     "name": "stdout",
     "output_type": "stream",
     "text": [
      "1\n",
      "2\n",
      "3\n",
      "4\n",
      "5\n",
      "6\n",
      "7\n",
      "8\n",
      "9\n",
      "10\n"
     ]
    }
   ],
   "source": [
    "for i in range(10):\n",
    "    i=i+1\n",
    "    print(i)"
   ]
  },
  {
   "cell_type": "code",
   "execution_count": 22,
   "id": "0111e86d",
   "metadata": {},
   "outputs": [
    {
     "name": "stdout",
     "output_type": "stream",
     "text": [
      "1\n",
      "2\n",
      "3\n",
      "4\n",
      "5\n",
      "6\n",
      "7\n",
      "8\n",
      "9\n",
      "10\n"
     ]
    }
   ],
   "source": [
    "i = 1\n",
    "while(i<=10):\n",
    "    print(i)\n",
    "    i += 1"
   ]
  },
  {
   "cell_type": "markdown",
   "id": "59ba83d1",
   "metadata": {},
   "source": [
    "13. If you had a function named bacon() inside a module named spam, how would you call it after importing spam?"
   ]
  },
  {
   "cell_type": "markdown",
   "id": "7664096c",
   "metadata": {},
   "source": [
    "import spam\n",
    "spam.bacon()"
   ]
  },
  {
   "cell_type": "code",
   "execution_count": null,
   "id": "17da2e15",
   "metadata": {},
   "outputs": [],
   "source": []
  }
 ],
 "metadata": {
  "kernelspec": {
   "display_name": "Python 3 (ipykernel)",
   "language": "python",
   "name": "python3"
  },
  "language_info": {
   "codemirror_mode": {
    "name": "ipython",
    "version": 3
   },
   "file_extension": ".py",
   "mimetype": "text/x-python",
   "name": "python",
   "nbconvert_exporter": "python",
   "pygments_lexer": "ipython3",
   "version": "3.9.7"
  }
 },
 "nbformat": 4,
 "nbformat_minor": 5
}
