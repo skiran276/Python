{
 "cells": [
  {
   "cell_type": "markdown",
   "id": "ffe5eced",
   "metadata": {},
   "source": [
    "1)In the below elements which of them are values or an expression? eg:- values can be integer or string and expressions will be mathematical operators."
   ]
  },
  {
   "cell_type": "markdown",
   "id": "2c69f4bf",
   "metadata": {},
   "source": [
    "Expressions: *, -, /, +"
   ]
  },
  {
   "cell_type": "markdown",
   "id": "0f5a5cfb",
   "metadata": {},
   "source": [
    "Values: -87.8, 6"
   ]
  },
  {
   "cell_type": "markdown",
   "id": "4bc5a602",
   "metadata": {},
   "source": [
    "String: 'hello'"
   ]
  },
  {
   "cell_type": "code",
   "execution_count": null,
   "id": "d1e8bb29",
   "metadata": {},
   "outputs": [],
   "source": []
  },
  {
   "cell_type": "markdown",
   "id": "1e77f14a",
   "metadata": {},
   "source": [
    "2)What is the difference between string and variable?\n",
    "  \n",
    "  strings\n",
    "  it is the data type for sequence of charcater eg (\"owjdn\") in addtion to letter they also include number,space,strings cannot be used for calculation you will have to convert to number data type for mathematical operation.strings are defined in single quotes('hdbsd'),or in double quote(\"kjwdf\")\n",
    "  \n",
    "  variable\n",
    "  this are the references that you create to define the other variable also it stores data.variable can hold a string but string cant hold variable."
   ]
  },
  {
   "cell_type": "markdown",
   "id": "c62307dd",
   "metadata": {},
   "source": [
    "3)Describe three different data types.\n",
    "\n",
    "-list\n",
    "-tuple\n",
    "-set\n",
    "\n",
    "list\n",
    "  an ordered sequence of item is called list. it is very flexible data type in python it is efforless to declare the list it is \n",
    "  enclosed in [] bracket and seperated by comas eg [5,7,8,'jwnd'] \n",
    "  \n",
    "tuple\n",
    "A Tuple is a sequence of items that are in order, and it is not possible to modify the Tuples. The main difference between list and tuples are that tuple is immutable, which means it cannot be altered. Tuples are generally faster than the list data type in Python because it cannot be changed or modified like list datatype. The primary use of Tuples is to write-protect data. Tuples can be represented by using parentheses (), and commas are used to separate the items.eg (4,6,\"erkhbg\")\n",
    "\n",
    "set\n",
    "The Collection of Unique items that are not in order is called Set. Braces {} are used to defined set and a comma is used to separate values. One will find that the items are unordered in a set data type.\n",
    "Duplicates are eliminated in a set and set only keeps unique values. Operations like intersection and union can be performed on two sets. a={4,5,6,78}\n"
   ]
  },
  {
   "cell_type": "code",
   "execution_count": null,
   "id": "6a68797c",
   "metadata": {},
   "outputs": [],
   "source": []
  },
  {
   "cell_type": "markdown",
   "id": "444052c9",
   "metadata": {},
   "source": [
    "4)What is an expression made up of? What do all expressions do?"
   ]
  },
  {
   "cell_type": "markdown",
   "id": "bae313e0",
   "metadata": {},
   "source": [
    "An expression is combination of variable,function,values operators and it is evaluated down to single value"
   ]
  },
  {
   "cell_type": "markdown",
   "id": "e88dbe06",
   "metadata": {},
   "source": []
  },
  {
   "cell_type": "markdown",
   "id": "2966afa0",
   "metadata": {},
   "source": [
    "5)This assignment statements, like spam = 10. What is the difference between an expression and a statement?\n",
    "\n",
    "expression is the combination of values and function eg x=5,z=9\n",
    "\n",
    "\n",
    "statement\n",
    "an instruction that python interpreter can carry out .example is given below"
   ]
  },
  {
   "cell_type": "code",
   "execution_count": 1,
   "id": "f760abef",
   "metadata": {},
   "outputs": [
    {
     "name": "stdout",
     "output_type": "stream",
     "text": [
      "3\n"
     ]
    }
   ],
   "source": [
    "x=3\n",
    "print(x)"
   ]
  },
  {
   "cell_type": "markdown",
   "id": "aea39ea3",
   "metadata": {},
   "source": [
    "6. After running the following code, what does the variable bacon contain?"
   ]
  },
  {
   "cell_type": "code",
   "execution_count": 2,
   "id": "f38d3495",
   "metadata": {},
   "outputs": [],
   "source": [
    "bacon = 22"
   ]
  },
  {
   "cell_type": "code",
   "execution_count": 3,
   "id": "46ec8248",
   "metadata": {},
   "outputs": [
    {
     "data": {
      "text/plain": [
       "23"
      ]
     },
     "execution_count": 3,
     "metadata": {},
     "output_type": "execute_result"
    }
   ],
   "source": [
    "bacon+1"
   ]
  },
  {
   "cell_type": "markdown",
   "id": "3b2e3c4b",
   "metadata": {},
   "source": [
    "7. What should the values of the following two terms be?\n",
    "'spam' + 'spamspam'\n",
    "'spam' * 3\n"
   ]
  },
  {
   "cell_type": "code",
   "execution_count": 4,
   "id": "4830f4cc",
   "metadata": {},
   "outputs": [
    {
     "data": {
      "text/plain": [
       "'spamspamspam'"
      ]
     },
     "execution_count": 4,
     "metadata": {},
     "output_type": "execute_result"
    }
   ],
   "source": [
    "'spam' + 'spamspam'"
   ]
  },
  {
   "cell_type": "code",
   "execution_count": 5,
   "id": "b79d3516",
   "metadata": {},
   "outputs": [
    {
     "data": {
      "text/plain": [
       "'spamspamspam'"
      ]
     },
     "execution_count": 5,
     "metadata": {},
     "output_type": "execute_result"
    }
   ],
   "source": [
    "'spam' * 3"
   ]
  },
  {
   "cell_type": "markdown",
   "id": "c9c541be",
   "metadata": {},
   "source": [
    "8. Why is eggs a valid variable name while 100 is invalid?"
   ]
  },
  {
   "cell_type": "markdown",
   "id": "a97a2d87",
   "metadata": {},
   "source": [
    "beacuse variable name cannot begin with number"
   ]
  },
  {
   "cell_type": "markdown",
   "id": "07de6da9",
   "metadata": {},
   "source": [
    "9. What three functions can be used to get the integer, floating-point number, or string version of a value?"
   ]
  },
  {
   "cell_type": "code",
   "execution_count": 8,
   "id": "999cf472",
   "metadata": {},
   "outputs": [
    {
     "data": {
      "text/plain": [
       "''"
      ]
     },
     "execution_count": 8,
     "metadata": {},
     "output_type": "execute_result"
    }
   ],
   "source": [
    "int()\n",
    "float()\n",
    "str()"
   ]
  },
  {
   "cell_type": "markdown",
   "id": "9c9d5126",
   "metadata": {},
   "source": [
    "Why does this expression cause an error? How can you fix it?\n",
    "'I have eaten ' + 99 + ' burritos.'"
   ]
  },
  {
   "cell_type": "markdown",
   "id": "b7bba33d",
   "metadata": {},
   "source": [
    "this expression cause an error because 'I have eaten '' burritos.' are strings but 99 is integer ,we can fix it by by taking 99 as string as shown below"
   ]
  },
  {
   "cell_type": "code",
   "execution_count": 16,
   "id": "9407a982",
   "metadata": {},
   "outputs": [
    {
     "data": {
      "text/plain": [
       "'I have eaten 99 burritos.'"
      ]
     },
     "execution_count": 16,
     "metadata": {},
     "output_type": "execute_result"
    }
   ],
   "source": [
    "'I have eaten ' + '99'+ ' burritos.'"
   ]
  }
 ],
 "metadata": {
  "kernelspec": {
   "display_name": "Python 3 (ipykernel)",
   "language": "python",
   "name": "python3"
  },
  "language_info": {
   "codemirror_mode": {
    "name": "ipython",
    "version": 3
   },
   "file_extension": ".py",
   "mimetype": "text/x-python",
   "name": "python",
   "nbconvert_exporter": "python",
   "pygments_lexer": "ipython3",
   "version": "3.9.7"
  }
 },
 "nbformat": 4,
 "nbformat_minor": 5
}
