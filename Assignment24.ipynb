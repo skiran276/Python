{
 "cells": [
  {
   "cell_type": "markdown",
   "id": "d0798362",
   "metadata": {},
   "source": [
    "1) What is the relationship between def statements and lambda expressions ?"
   ]
  },
  {
   "cell_type": "markdown",
   "id": "5efa8d60",
   "metadata": {},
   "source": [
    "Ans: def statement is used to create a normal function. where as lamba expressions are used to create Anonymous functions. which can be assigned to a variable and can be called using the variable later in function.\n",
    "\n",
    "Lambda's body is a single expression and not a block of statements like def statement. The lambda expression's body is similar to what we'd put in a def body's return statement. We simply type the result as an expression instead of explicitly returning it. Because it is limited to an expression, a lambda is less general than a def statement."
   ]
  },
  {
   "cell_type": "markdown",
   "id": "d008f2d0",
   "metadata": {},
   "source": [
    "2) What is the benefit of lambda?"
   ]
  },
  {
   "cell_type": "raw",
   "id": "a5e70a27",
   "metadata": {},
   "source": [
    "Ans: The following are some of the benefits of lambda expressions:\n",
    "\n",
    "1)Can be used to create Nameless/Anonymous functions inside some complex functions if we are planning to use it only once.\n",
    "2)Moderate to small functions can be created in a single line\n",
    "3)Fuctions created using lambda expressions can be assigned to a variable and can be used by simply calling the variable"
   ]
  },
  {
   "cell_type": "markdown",
   "id": "4b1d91b1",
   "metadata": {},
   "source": [
    "3) Compare and contrast map, filter, and reduce."
   ]
  },
  {
   "cell_type": "raw",
   "id": "0e39808b",
   "metadata": {},
   "source": [
    "Ans: The differences between map, filter and reduce are:\n",
    "\n",
    "map(): The map() function is a type of higher-order. This function takes another function as a parameter along with a sequence of iterables and returns an output after applying the function to each iterable present in the sequence.\n",
    "filter(): The filter() function is used to create an output list consisting of values for which the function returns true.\n",
    "reduce(): The reduce() function, as the name describes, applies a given function to the iterables and returns a single value"
   ]
  },
  {
   "cell_type": "code",
   "execution_count": 1,
   "id": "57a6ac98",
   "metadata": {},
   "outputs": [
    {
     "name": "stdout",
     "output_type": "stream",
     "text": [
      "Map -> [2, 4, 6, 8]\n",
      "Filter -> [1, 3]\n",
      "Reduce -> 21\n"
     ]
    }
   ],
   "source": [
    "from functools import reduce\n",
    "# map function\n",
    "print('Map ->',list(map(lambda x:x+x, [1,2,3,4])))\n",
    "# fitler function\n",
    "print('Filter ->',list(filter(lambda x:x%2 !=0, [1,2,3,4])))\n",
    "# reduce function\n",
    "print('Reduce ->',reduce(lambda x,y:x+y, [1,2,3,4,5,6]))"
   ]
  },
  {
   "cell_type": "markdown",
   "id": "ad8eb0e5",
   "metadata": {},
   "source": [
    "4) What are function annotations, and how are they used?"
   ]
  },
  {
   "cell_type": "raw",
   "id": "a8450b7a",
   "metadata": {},
   "source": [
    "Ans: Function annotations provide a way of associating various parts of a function with arbitrary pythoncexpressions at compile time.\n",
    "Annotations of simple parameters def func(x: expression, y: expression = 20):\n",
    "Whereas the annotations for excess parameters are as − def func (**args: expression, **kwargs: expression):"
   ]
  },
  {
   "cell_type": "markdown",
   "id": "054060e1",
   "metadata": {},
   "source": [
    "5) What are recursive functions, and how are they used?"
   ]
  },
  {
   "cell_type": "markdown",
   "id": "fc0098f1",
   "metadata": {},
   "source": [
    "Ans: A recursive function is a function that calls itself during its execution. The process may repeat several times, outputting the result and the end of each iteration."
   ]
  },
  {
   "cell_type": "markdown",
   "id": "0f0c314c",
   "metadata": {},
   "source": [
    "6) What are some general design guidelines for coding functions?"
   ]
  },
  {
   "cell_type": "raw",
   "id": "f81d3509",
   "metadata": {},
   "source": [
    "Ans: Some of the general design guidelines for coding functions are:\n",
    "\n",
    "Always use a docstring to explain the functionality of the function\n",
    "avoid using or limited use of global variables\n",
    "Proper Identation to increase the code readability\n",
    "try to follow a naming convention for function names (pascalCase or camelCase) and stick with the same convention throughout the application.\n",
    "Avoid using digits while choosing a variable name\n",
    "try to use a name for the function which conveys the purpose of the function\n",
    "Local variables should be named using camelCase format (ex: localVariable) whereas Global variables names should be using PascalCase (ex:GlobalVariable).\n",
    "Constant should be represented in allcaps (ex:CONSTANT)."
   ]
  },
  {
   "cell_type": "markdown",
   "id": "1ec51992",
   "metadata": {},
   "source": [
    "7) Name three or more ways that functions can communicate results to a caller."
   ]
  },
  {
   "cell_type": "markdown",
   "id": "a645b6c6",
   "metadata": {},
   "source": [
    "Ans: Some of the ways in which a function can communicate with the calling function is:\n",
    "print,\n",
    "return,\n",
    "yield."
   ]
  }
 ],
 "metadata": {
  "kernelspec": {
   "display_name": "Python 3 (ipykernel)",
   "language": "python",
   "name": "python3"
  },
  "language_info": {
   "codemirror_mode": {
    "name": "ipython",
    "version": 3
   },
   "file_extension": ".py",
   "mimetype": "text/x-python",
   "name": "python",
   "nbconvert_exporter": "python",
   "pygments_lexer": "ipython3",
   "version": "3.9.7"
  }
 },
 "nbformat": 4,
 "nbformat_minor": 5
}
